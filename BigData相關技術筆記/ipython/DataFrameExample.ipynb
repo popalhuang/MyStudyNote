{
 "cells": [
  {
   "cell_type": "markdown",
   "metadata": {},
   "source": [
    "# 基礎查詢練習"
   ]
  },
  {
   "cell_type": "code",
   "execution_count": 4,
   "metadata": {
    "collapsed": true
   },
   "outputs": [],
   "source": [
    "# 讀取 HDFS 上資料\n",
    "RawUserRDD= sc.textFile(\"hdfs:///Kevin/u.user\")"
   ]
  },
  {
   "cell_type": "code",
   "execution_count": 5,
   "metadata": {
    "collapsed": false
   },
   "outputs": [
    {
     "data": {
      "text/plain": [
       "943"
      ]
     },
     "execution_count": 5,
     "metadata": {},
     "output_type": "execute_result"
    }
   ],
   "source": [
    "# 查看筆數\n",
    "RawUserRDD.count()"
   ]
  },
  {
   "cell_type": "code",
   "execution_count": 6,
   "metadata": {
    "collapsed": false
   },
   "outputs": [
    {
     "data": {
      "text/plain": [
       "['1|24|M|technician|85711',\n",
       " '2|53|F|other|94043',\n",
       " '3|23|M|writer|32067',\n",
       " '4|24|M|technician|43537',\n",
       " '5|33|F|other|15213']"
      ]
     },
     "execution_count": 6,
     "metadata": {},
     "output_type": "execute_result"
    }
   ],
   "source": [
    "# 查看前五筆資料\n",
    "RawUserRDD.take(5)"
   ]
  },
  {
   "cell_type": "code",
   "execution_count": 7,
   "metadata": {
    "collapsed": false
   },
   "outputs": [
    {
     "data": {
      "text/plain": [
       "[['1', '24', 'M', 'technician', '85711'],\n",
       " ['2', '53', 'F', 'other', '94043'],\n",
       " ['3', '23', 'M', 'writer', '32067'],\n",
       " ['4', '24', 'M', 'technician', '43537'],\n",
       " ['5', '33', 'F', 'other', '15213']]"
      ]
     },
     "execution_count": 7,
     "metadata": {},
     "output_type": "execute_result"
    }
   ],
   "source": [
    "# 以 \"|\" 符號，取得每一個欄位\n",
    "userRDD =RawUserRDD.map(lambda line: line.split(\"|\"))\n",
    "userRDD.take(5)"
   ]
  },
  {
   "cell_type": "markdown",
   "metadata": {},
   "source": [
    "# 建立DataFrame"
   ]
  },
  {
   "cell_type": "code",
   "execution_count": 8,
   "metadata": {
    "collapsed": true
   },
   "outputs": [],
   "source": [
    "# 匯入 SQLContext 模組\n",
    "from pyspark.sql import SQLContext\n",
    "sqlContext = SQLContext(sc)"
   ]
  },
  {
   "cell_type": "code",
   "execution_count": 9,
   "metadata": {
    "collapsed": false
   },
   "outputs": [
    {
     "data": {
      "text/plain": [
       "[Row(age=24, gender='M', occupation='technician', userid=1, zipcode='85711'),\n",
       " Row(age=53, gender='F', occupation='other', userid=2, zipcode='94043'),\n",
       " Row(age=23, gender='M', occupation='writer', userid=3, zipcode='32067'),\n",
       " Row(age=24, gender='M', occupation='technician', userid=4, zipcode='43537'),\n",
       " Row(age=33, gender='F', occupation='other', userid=5, zipcode='15213')]"
      ]
     },
     "execution_count": 9,
     "metadata": {},
     "output_type": "execute_result"
    }
   ],
   "source": [
    "# 定義 DataFrame 的每一個欄位名稱與資料型態\n",
    "from pyspark.sql import Row\n",
    "user_Rows = userRDD.map(lambda p:\n",
    "     Row(\n",
    "         userid=int(p[0]), \n",
    "         age=int(p[1]),\n",
    "         gender=p[2],\n",
    "         occupation=p[3],\n",
    "         zipcode=p[4]\n",
    "    )\n",
    ")\n",
    "user_Rows.take(5)"
   ]
  },
  {
   "cell_type": "code",
   "execution_count": 10,
   "metadata": {
    "collapsed": false
   },
   "outputs": [
    {
     "name": "stdout",
     "output_type": "stream",
     "text": [
      "root\n",
      " |-- age: long (nullable = true)\n",
      " |-- gender: string (nullable = true)\n",
      " |-- occupation: string (nullable = true)\n",
      " |-- userid: long (nullable = true)\n",
      " |-- zipcode: string (nullable = true)\n",
      "\n"
     ]
    }
   ],
   "source": [
    "# 建立 DataFrame\n",
    "user_df = sqlContext.createDataFrame(user_Rows)\n",
    "user_df.printSchema()"
   ]
  },
  {
   "cell_type": "code",
   "execution_count": 11,
   "metadata": {
    "collapsed": false
   },
   "outputs": [
    {
     "name": "stdout",
     "output_type": "stream",
     "text": [
      "+---+------+----------+------+-------+\n",
      "|age|gender|occupation|userid|zipcode|\n",
      "+---+------+----------+------+-------+\n",
      "| 24|     M|technician|     1|  85711|\n",
      "| 53|     F|     other|     2|  94043|\n",
      "| 23|     M|    writer|     3|  32067|\n",
      "| 24|     M|technician|     4|  43537|\n",
      "| 33|     F|     other|     5|  15213|\n",
      "+---+------+----------+------+-------+\n",
      "only showing top 5 rows\n",
      "\n"
     ]
    }
   ],
   "source": [
    "# 查看前五筆資料\n",
    "user_df.show(5)"
   ]
  },
  {
   "cell_type": "code",
   "execution_count": 12,
   "metadata": {
    "collapsed": false
   },
   "outputs": [
    {
     "name": "stdout",
     "output_type": "stream",
     "text": [
      "+---+------+----------+------+-------+\n",
      "|age|gender|occupation|userid|zipcode|\n",
      "+---+------+----------+------+-------+\n",
      "| 24|     M|technician|     1|  85711|\n",
      "| 53|     F|     other|     2|  94043|\n",
      "| 23|     M|    writer|     3|  32067|\n",
      "| 24|     M|technician|     4|  43537|\n",
      "| 33|     F|     other|     5|  15213|\n",
      "+---+------+----------+------+-------+\n",
      "only showing top 5 rows\n",
      "\n"
     ]
    }
   ],
   "source": [
    "# 幫 DataFrame 建立別名\n",
    "df=user_df.alias(\"df\")\n",
    "df.show(5)"
   ]
  },
  {
   "cell_type": "code",
   "execution_count": 13,
   "metadata": {
    "collapsed": true
   },
   "outputs": [],
   "source": [
    "# 建立 Spark SQL tempTable\n",
    "user_df.registerTempTable(\"user_table\")"
   ]
  },
  {
   "cell_type": "code",
   "execution_count": 14,
   "metadata": {
    "collapsed": false
   },
   "outputs": [
    {
     "name": "stdout",
     "output_type": "stream",
     "text": [
      "+------+\n",
      "|counts|\n",
      "+------+\n",
      "|   943|\n",
      "+------+\n",
      "\n"
     ]
    }
   ],
   "source": [
    "# 可以下 SQL 語法，顯示有 943 筆資料\n",
    "sqlContext.sql(\" SELECT count(*) counts FROM user_table\").show()"
   ]
  },
  {
   "cell_type": "code",
   "execution_count": 15,
   "metadata": {
    "collapsed": false
   },
   "outputs": [
    {
     "name": "stdout",
     "output_type": "stream",
     "text": [
      "+------+\n",
      "|counts|\n",
      "+------+\n",
      "|   943|\n",
      "+------+\n",
      "\n"
     ]
    }
   ],
   "source": [
    "# 用 三個引號包住 SQL 語法\n",
    "sqlContext.sql(\"\"\"\n",
    "SELECT count(*) counts \n",
    "FROM   user_table\n",
    "\"\"\").show()"
   ]
  },
  {
   "cell_type": "code",
   "execution_count": 16,
   "metadata": {
    "collapsed": false
   },
   "outputs": [
    {
     "name": "stdout",
     "output_type": "stream",
     "text": [
      "+---+------+-------------+------+-------+\n",
      "|age|gender|   occupation|userid|zipcode|\n",
      "+---+------+-------------+------+-------+\n",
      "| 24|     M|   technician|     1|  85711|\n",
      "| 53|     F|        other|     2|  94043|\n",
      "| 23|     M|       writer|     3|  32067|\n",
      "| 24|     M|   technician|     4|  43537|\n",
      "| 33|     F|        other|     5|  15213|\n",
      "| 42|     M|    executive|     6|  98101|\n",
      "| 57|     M|administrator|     7|  91344|\n",
      "| 36|     M|administrator|     8|  05201|\n",
      "| 29|     M|      student|     9|  01002|\n",
      "| 53|     M|       lawyer|    10|  90703|\n",
      "| 39|     F|        other|    11|  30329|\n",
      "| 28|     F|        other|    12|  06405|\n",
      "| 47|     M|     educator|    13|  29206|\n",
      "| 45|     M|    scientist|    14|  55106|\n",
      "| 49|     F|     educator|    15|  97301|\n",
      "| 21|     M|entertainment|    16|  10309|\n",
      "| 30|     M|   programmer|    17|  06355|\n",
      "| 35|     F|        other|    18|  37212|\n",
      "| 40|     M|    librarian|    19|  02138|\n",
      "| 42|     F|    homemaker|    20|  95660|\n",
      "+---+------+-------------+------+-------+\n",
      "only showing top 20 rows\n",
      "\n"
     ]
    }
   ],
   "source": [
    "# 顯示前 20 筆資料\n",
    "sqlContext.sql(\" SELECT *  FROM user_table \").show()"
   ]
  },
  {
   "cell_type": "code",
   "execution_count": 17,
   "metadata": {
    "collapsed": false
   },
   "outputs": [
    {
     "name": "stdout",
     "output_type": "stream",
     "text": [
      "+---+------+----------+------+-------+\n",
      "|age|gender|occupation|userid|zipcode|\n",
      "+---+------+----------+------+-------+\n",
      "| 24|     M|technician|     1|  85711|\n",
      "| 53|     F|     other|     2|  94043|\n",
      "| 23|     M|    writer|     3|  32067|\n",
      "| 24|     M|technician|     4|  43537|\n",
      "| 33|     F|     other|     5|  15213|\n",
      "+---+------+----------+------+-------+\n",
      "only showing top 5 rows\n",
      "\n"
     ]
    }
   ],
   "source": [
    "# 顯示前 5 筆資料\n",
    "sqlContext.sql(\" SELECT *  FROM user_table\").show(5)"
   ]
  },
  {
   "cell_type": "code",
   "execution_count": 18,
   "metadata": {
    "collapsed": false
   },
   "outputs": [
    {
     "name": "stdout",
     "output_type": "stream",
     "text": [
      "+---+------+----------+------+-------+\n",
      "|age|gender|occupation|userid|zipcode|\n",
      "+---+------+----------+------+-------+\n",
      "| 24|     M|technician|     1|  85711|\n",
      "| 53|     F|     other|     2|  94043|\n",
      "| 23|     M|    writer|     3|  32067|\n",
      "| 24|     M|technician|     4|  43537|\n",
      "| 33|     F|     other|     5|  15213|\n",
      "+---+------+----------+------+-------+\n",
      "\n"
     ]
    }
   ],
   "source": [
    "# LIMIT 5 顯示前 5 筆資料\n",
    "sqlContext.sql(\" SELECT *  FROM user_table LIMIT 5\").show()"
   ]
  },
  {
   "cell_type": "markdown",
   "metadata": {},
   "source": [
    "# 顯示部分欄位"
   ]
  },
  {
   "cell_type": "code",
   "execution_count": 19,
   "metadata": {
    "collapsed": false
   },
   "outputs": [
    {
     "data": {
      "text/plain": [
       "[('1', 'technician', 'M', '24'),\n",
       " ('2', 'other', 'F', '53'),\n",
       " ('3', 'writer', 'M', '23'),\n",
       " ('4', 'technician', 'M', '24'),\n",
       " ('5', 'other', 'F', '33')]"
      ]
     },
     "execution_count": 19,
     "metadata": {},
     "output_type": "execute_result"
    }
   ],
   "source": [
    "# 只要顯示 '1', 'technician', 'M', '24' 等\n",
    "userRDDnew= userRDD.map(lambda x: (x[0],x[3],x[2] ,x[1]) )\n",
    "userRDDnew.take(5)"
   ]
  },
  {
   "cell_type": "code",
   "execution_count": 20,
   "metadata": {
    "collapsed": false
   },
   "outputs": [
    {
     "name": "stdout",
     "output_type": "stream",
     "text": [
      "+------+----------+------+---+\n",
      "|userid|occupation|gender|age|\n",
      "+------+----------+------+---+\n",
      "|     1|technician|     M| 24|\n",
      "|     2|     other|     F| 53|\n",
      "|     3|    writer|     M| 23|\n",
      "|     4|technician|     M| 24|\n",
      "|     5|     other|     F| 33|\n",
      "+------+----------+------+---+\n",
      "only showing top 5 rows\n",
      "\n"
     ]
    }
   ],
   "source": [
    "# 選取顯示欄位，取前五筆\n",
    "user_df.select(\"userid\",\"occupation\",\"gender\",\"age\").show(5)"
   ]
  },
  {
   "cell_type": "code",
   "execution_count": 21,
   "metadata": {
    "collapsed": false
   },
   "outputs": [
    {
     "name": "stdout",
     "output_type": "stream",
     "text": [
      "+------+----------+------+---+\n",
      "|userid|occupation|gender|age|\n",
      "+------+----------+------+---+\n",
      "|     1|technician|     M| 24|\n",
      "|     2|     other|     F| 53|\n",
      "|     3|    writer|     M| 23|\n",
      "|     4|technician|     M| 24|\n",
      "|     5|     other|     F| 33|\n",
      "+------+----------+------+---+\n",
      "only showing top 5 rows\n",
      "\n"
     ]
    }
   ],
   "source": [
    "# 也可以 dataframe 名稱.欄位名稱 選取，取前五筆\n",
    "user_df.select(user_df.userid, user_df.occupation,user_df.gender,user_df.age).show(5)"
   ]
  },
  {
   "cell_type": "code",
   "execution_count": 22,
   "metadata": {
    "collapsed": false
   },
   "outputs": [
    {
     "name": "stdout",
     "output_type": "stream",
     "text": [
      "+------+----------+------+---+\n",
      "|userid|occupation|gender|age|\n",
      "+------+----------+------+---+\n",
      "|     1|technician|     M| 24|\n",
      "|     2|     other|     F| 53|\n",
      "|     3|    writer|     M| 23|\n",
      "|     4|technician|     M| 24|\n",
      "|     5|     other|     F| 33|\n",
      "+------+----------+------+---+\n",
      "only showing top 5 rows\n",
      "\n"
     ]
    }
   ],
   "source": [
    "# dataframe 別名.欄位名稱 選取，取前五筆\n",
    "df.select(df.userid,df.occupation,df.gender,df.age).show(5)"
   ]
  },
  {
   "cell_type": "code",
   "execution_count": 23,
   "metadata": {
    "collapsed": false
   },
   "outputs": [
    {
     "name": "stdout",
     "output_type": "stream",
     "text": [
      "+------+----------+------+---+\n",
      "|userid|occupation|gender|age|\n",
      "+------+----------+------+---+\n",
      "|     1|technician|     M| 24|\n",
      "|     2|     other|     F| 53|\n",
      "|     3|    writer|     M| 23|\n",
      "|     4|technician|     M| 24|\n",
      "|     5|     other|     F| 33|\n",
      "+------+----------+------+---+\n",
      "only showing top 5 rows\n",
      "\n"
     ]
    }
   ],
   "source": [
    "# 混合 dataframe 名稱.欄位名稱 或 dataframe 別名.欄位名稱 選取，取前五筆\n",
    "user_df.select(user_df.userid, user_df.occupation,df.gender,df.age).show(5)"
   ]
  },
  {
   "cell_type": "code",
   "execution_count": 24,
   "metadata": {
    "collapsed": false
   },
   "outputs": [
    {
     "name": "stdout",
     "output_type": "stream",
     "text": [
      "+------+----------+------+---+\n",
      "|userid|occupation|gender|age|\n",
      "+------+----------+------+---+\n",
      "|     1|technician|     M| 24|\n",
      "|     2|     other|     F| 53|\n",
      "|     3|    writer|     M| 23|\n",
      "|     4|technician|     M| 24|\n",
      "|     5|     other|     F| 33|\n",
      "+------+----------+------+---+\n",
      "only showing top 5 rows\n",
      "\n"
     ]
    }
   ],
   "source": [
    "# 使用 select 關鍵字，指定想要顯示的欄位\n",
    "sqlContext.sql(\"SELECT userid,occupation,gender,age FROM user_table\").show(5)"
   ]
  },
  {
   "cell_type": "code",
   "execution_count": 25,
   "metadata": {
    "collapsed": false
   },
   "outputs": [
    {
     "data": {
      "text/plain": [
       "[('1', 'technician', 'M', '24', 1992),\n",
       " ('2', 'other', 'F', '53', 1963),\n",
       " ('3', 'writer', 'M', '23', 1993),\n",
       " ('4', 'technician', 'M', '24', 1992),\n",
       " ('5', 'other', 'F', '33', 1983)]"
      ]
     },
     "execution_count": 25,
     "metadata": {},
     "output_type": "execute_result"
    }
   ],
   "source": [
    "# 增加計算欄位\n",
    "# 計算出生年並顯示出來\n",
    "userRDDnew= userRDD.map(lambda x: (x[0],x[3],x[2],x[1] ,2016-int(x[1])) )\n",
    "userRDDnew.take(5)"
   ]
  },
  {
   "cell_type": "code",
   "execution_count": 26,
   "metadata": {
    "collapsed": false
   },
   "outputs": [
    {
     "name": "stdout",
     "output_type": "stream",
     "text": [
      "+------+----------+------+---+------------+\n",
      "|userid|occupation|gender|age|(2016 - age)|\n",
      "+------+----------+------+---+------------+\n",
      "|     1|technician|     M| 24|        1992|\n",
      "|     2|     other|     F| 53|        1963|\n",
      "|     3|    writer|     M| 23|        1993|\n",
      "|     4|technician|     M| 24|        1992|\n",
      "|     5|     other|     F| 33|        1983|\n",
      "+------+----------+------+---+------------+\n",
      "only showing top 5 rows\n",
      "\n"
     ]
    }
   ],
   "source": [
    "# 有 schema 所以可以直接輸入計算欄位\n",
    "df.select(\"userid\",\"occupation\",\"gender\",\"age\",2016-df.age).show(5)"
   ]
  },
  {
   "cell_type": "code",
   "execution_count": 27,
   "metadata": {
    "collapsed": false
   },
   "outputs": [
    {
     "name": "stdout",
     "output_type": "stream",
     "text": [
      "+------+----------+------+---+---------+\n",
      "|userid|occupation|gender|age|birthyear|\n",
      "+------+----------+------+---+---------+\n",
      "|     1|technician|     M| 24|     1992|\n",
      "|     2|     other|     F| 53|     1963|\n",
      "|     3|    writer|     M| 23|     1993|\n",
      "|     4|technician|     M| 24|     1992|\n",
      "|     5|     other|     F| 33|     1983|\n",
      "+------+----------+------+---+---------+\n",
      "only showing top 5 rows\n",
      "\n"
     ]
    }
   ],
   "source": [
    "# 為計算欄位取一個別名\n",
    "df.select(\"userid\",\"occupation\",\"gender\",\"age\",(2016-df.age).alias(\"birthyear\")).show(5)"
   ]
  },
  {
   "cell_type": "code",
   "execution_count": 28,
   "metadata": {
    "collapsed": false
   },
   "outputs": [
    {
     "name": "stdout",
     "output_type": "stream",
     "text": [
      "+------+----------+------+---+---------+\n",
      "|userid|occupation|gender|age|birthyear|\n",
      "+------+----------+------+---+---------+\n",
      "|     1|technician|     M| 24|     1992|\n",
      "|     2|     other|     F| 53|     1963|\n",
      "|     3|    writer|     M| 23|     1993|\n",
      "|     4|technician|     M| 24|     1992|\n",
      "|     5|     other|     F| 33|     1983|\n",
      "+------+----------+------+---+---------+\n",
      "only showing top 5 rows\n",
      "\n"
     ]
    }
   ],
   "source": [
    "# 2016-age birthyear, 計算生日年\n",
    "sqlContext.sql(\"\"\"\n",
    "SELECT userid,occupation,gender,age,2016-age birthyear \n",
    "FROM user_table\"\"\").show(5)"
   ]
  },
  {
   "cell_type": "code",
   "execution_count": 29,
   "metadata": {
    "collapsed": false
   },
   "outputs": [
    {
     "data": {
      "text/plain": [
       "[['1', '24', 'M', 'technician', '85711'],\n",
       " ['4', '24', 'M', 'technician', '43537'],\n",
       " ['456', '24', 'M', 'technician', '31820'],\n",
       " ['717', '24', 'M', 'technician', '84105'],\n",
       " ['832', '24', 'M', 'technician', '77042'],\n",
       " ['889', '24', 'M', 'technician', '78704']]"
      ]
     },
     "execution_count": 29,
     "metadata": {},
     "output_type": "execute_result"
    }
   ],
   "source": [
    "# 篩選 r[3]=='technician' and r[2]=='M' and r[1]=='24'\n",
    "userRDD.filter(lambda r: r[3]=='technician' and r[2]=='M' and r[1]=='24').take(6) "
   ]
  },
  {
   "cell_type": "code",
   "execution_count": 30,
   "metadata": {
    "collapsed": false
   },
   "outputs": [
    {
     "name": "stdout",
     "output_type": "stream",
     "text": [
      "+---+------+----------+------+-------+\n",
      "|age|gender|occupation|userid|zipcode|\n",
      "+---+------+----------+------+-------+\n",
      "| 24|     M|technician|     1|  85711|\n",
      "| 24|     M|technician|     4|  43537|\n",
      "| 24|     M|technician|   456|  31820|\n",
      "| 24|     M|technician|   717|  84105|\n",
      "| 24|     M|technician|   832|  77042|\n",
      "| 24|     M|technician|   889|  78704|\n",
      "+---+------+----------+------+-------+\n",
      "\n"
     ]
    }
   ],
   "source": [
    "# 多個 filter 代表 and 意思\n",
    "user_df.filter(\"occupation='technician' \").filter(\"gender='M' \").filter(\"age=24\").show()"
   ]
  },
  {
   "cell_type": "code",
   "execution_count": 31,
   "metadata": {
    "collapsed": false
   },
   "outputs": [
    {
     "name": "stdout",
     "output_type": "stream",
     "text": [
      "+---+------+----------+------+-------+\n",
      "|age|gender|occupation|userid|zipcode|\n",
      "+---+------+----------+------+-------+\n",
      "| 24|     M|technician|     1|  85711|\n",
      "| 24|     M|technician|     4|  43537|\n",
      "| 24|     M|technician|   456|  31820|\n",
      "| 24|     M|technician|   717|  84105|\n",
      "| 24|     M|technician|   832|  77042|\n",
      "| 24|     M|technician|   889|  78704|\n",
      "+---+------+----------+------+-------+\n",
      "\n"
     ]
    }
   ],
   "source": [
    "# 使用單一 filter 篩選\n",
    "user_df.filter(\"occupation='technician' and gender='M' and age=24\").show()"
   ]
  },
  {
   "cell_type": "code",
   "execution_count": 32,
   "metadata": {
    "collapsed": false
   },
   "outputs": [
    {
     "name": "stdout",
     "output_type": "stream",
     "text": [
      "+---+------+----------+------+-------+\n",
      "|age|gender|occupation|userid|zipcode|\n",
      "+---+------+----------+------+-------+\n",
      "| 24|     M|technician|     1|  85711|\n",
      "| 24|     M|technician|     4|  43537|\n",
      "| 24|     M|technician|   456|  31820|\n",
      "| 24|     M|technician|   717|  84105|\n",
      "| 24|     M|technician|   832|  77042|\n",
      "| 24|     M|technician|   889|  78704|\n",
      "+---+------+----------+------+-------+\n",
      "\n"
     ]
    }
   ],
   "source": [
    "# 也可以使用 dataframe 名稱.欄位名稱篩選，但要用 & 連接\n",
    "df.filter((df.occupation=='technician' ) & (df.gender=='M' ) & (df.age==24)).show()"
   ]
  },
  {
   "cell_type": "code",
   "execution_count": 33,
   "metadata": {
    "collapsed": false
   },
   "outputs": [
    {
     "name": "stdout",
     "output_type": "stream",
     "text": [
      "+---+------+----------+------+-------+\n",
      "|age|gender|occupation|userid|zipcode|\n",
      "+---+------+----------+------+-------+\n",
      "| 24|     M|technician|     1|  85711|\n",
      "| 24|     M|technician|     4|  43537|\n",
      "| 24|     M|technician|   456|  31820|\n",
      "| 24|     M|technician|   717|  84105|\n",
      "| 24|     M|technician|   832|  77042|\n",
      "| 24|     M|technician|   889|  78704|\n",
      "+---+------+----------+------+-------+\n",
      "\n"
     ]
    }
   ],
   "source": [
    "# 也可以使用中括弧篩選\n",
    "df.filter((df['occupation']=='technician' ) & (df['gender']=='M' ) & (df['age']==24)).show()"
   ]
  },
  {
   "cell_type": "code",
   "execution_count": 34,
   "metadata": {
    "collapsed": false
   },
   "outputs": [
    {
     "name": "stdout",
     "output_type": "stream",
     "text": [
      "+---+------+----------+------+-------+\n",
      "|age|gender|occupation|userid|zipcode|\n",
      "+---+------+----------+------+-------+\n",
      "| 24|     M|technician|     1|  85711|\n",
      "| 24|     M|technician|     4|  43537|\n",
      "| 24|     M|technician|   456|  31820|\n",
      "| 24|     M|technician|   717|  84105|\n",
      "| 24|     M|technician|   832|  77042|\n",
      "+---+------+----------+------+-------+\n",
      "only showing top 5 rows\n",
      "\n"
     ]
    }
   ],
   "source": [
    "#Step3 使用Spark SQL 篩選資料\n",
    "# where 篩選資料\n",
    "sqlContext.sql(\n",
    "'''SELECT *  \n",
    "FROM user_table \n",
    "where occupation='technician' and   gender='M' and age=24''').show(5)"
   ]
  },
  {
   "cell_type": "code",
   "execution_count": 35,
   "metadata": {
    "collapsed": false
   },
   "outputs": [
    {
     "data": {
      "text/plain": [
       "[['30', '7', 'M', 'student', '55436'],\n",
       " ['471', '10', 'M', 'student', '77459'],\n",
       " ['289', '11', 'M', 'none', '94619'],\n",
       " ['142', '13', 'M', 'other', '48118'],\n",
       " ['609', '13', 'F', 'student', '55106']]"
      ]
     },
     "execution_count": 35,
     "metadata": {},
     "output_type": "execute_result"
    }
   ],
   "source": [
    "# 單一欄位排序資料\n",
    "# 年紀由小排到大\n",
    "userRDD.takeOrdered(5, key = lambda x: int(x[1]))"
   ]
  },
  {
   "cell_type": "code",
   "execution_count": 36,
   "metadata": {
    "collapsed": false
   },
   "outputs": [
    {
     "data": {
      "text/plain": [
       "[['481', '73', 'M', 'retired', '37771'],\n",
       " ['767', '70', 'M', 'engineer', '00000'],\n",
       " ['803', '70', 'M', 'administrator', '78212'],\n",
       " ['860', '70', 'F', 'retired', '48322'],\n",
       " ['559', '69', 'M', 'executive', '10022']]"
      ]
     },
     "execution_count": 36,
     "metadata": {},
     "output_type": "execute_result"
    }
   ],
   "source": [
    "# 年紀由大排到小\n",
    "userRDD.takeOrdered(5, key = lambda x: -1*int(x[1]))"
   ]
  },
  {
   "cell_type": "code",
   "execution_count": 37,
   "metadata": {
    "collapsed": false
   },
   "outputs": [
    {
     "name": "stdout",
     "output_type": "stream",
     "text": [
      "+------+----------+------+---+\n",
      "|userid|occupation|gender|age|\n",
      "+------+----------+------+---+\n",
      "|    30|   student|     M|  7|\n",
      "|   471|   student|     M| 10|\n",
      "|   289|      none|     M| 11|\n",
      "|   142|     other|     M| 13|\n",
      "|   609|   student|     F| 13|\n",
      "+------+----------+------+---+\n",
      "only showing top 5 rows\n",
      "\n"
     ]
    }
   ],
   "source": [
    "# 使用 ORDER BY 升冪 預設\n",
    "sqlContext.sql(\"\"\"\n",
    "SELECT userid,occupation,gender,age   \n",
    "FROM user_table \n",
    "ORDER BY age\"\"\").show(5)"
   ]
  },
  {
   "cell_type": "code",
   "execution_count": 38,
   "metadata": {
    "collapsed": false
   },
   "outputs": [
    {
     "name": "stdout",
     "output_type": "stream",
     "text": [
      "+------+-------------+------+---+\n",
      "|userid|   occupation|gender|age|\n",
      "+------+-------------+------+---+\n",
      "|   481|      retired|     M| 73|\n",
      "|   860|      retired|     F| 70|\n",
      "|   767|     engineer|     M| 70|\n",
      "|   803|administrator|     M| 70|\n",
      "|   559|    executive|     M| 69|\n",
      "+------+-------------+------+---+\n",
      "only showing top 5 rows\n",
      "\n"
     ]
    }
   ],
   "source": [
    "# 使用 ORDER BY 降冪\n",
    "sqlContext.sql(\"\"\"\n",
    "SELECT userid,occupation,gender,age   \n",
    "FROM user_table \n",
    "ORDER BY age DESC\"\"\").show(5)"
   ]
  },
  {
   "cell_type": "code",
   "execution_count": 39,
   "metadata": {
    "collapsed": false
   },
   "outputs": [
    {
     "name": "stdout",
     "output_type": "stream",
     "text": [
      "+------+----------+------+---+\n",
      "|userid|occupation|gender|age|\n",
      "+------+----------+------+---+\n",
      "|    30|   student|     M|  7|\n",
      "|   471|   student|     M| 10|\n",
      "|   289|      none|     M| 11|\n",
      "|   142|     other|     M| 13|\n",
      "|   609|   student|     F| 13|\n",
      "+------+----------+------+---+\n",
      "only showing top 5 rows\n",
      "\n"
     ]
    }
   ],
   "source": [
    "# 使用 ORDER BY 升冪 預設\n",
    "user_df.select(\"userid\",\"occupation\",\"gender\",\"age\").orderBy(\"age\").show(5)"
   ]
  },
  {
   "cell_type": "code",
   "execution_count": 40,
   "metadata": {
    "collapsed": false
   },
   "outputs": [
    {
     "name": "stdout",
     "output_type": "stream",
     "text": [
      "+------+-------------+------+---+\n",
      "|userid|   occupation|gender|age|\n",
      "+------+-------------+------+---+\n",
      "|   481|      retired|     M| 73|\n",
      "|   767|     engineer|     M| 70|\n",
      "|   860|      retired|     F| 70|\n",
      "|   803|administrator|     M| 70|\n",
      "|   559|    executive|     M| 69|\n",
      "+------+-------------+------+---+\n",
      "only showing top 5 rows\n",
      "\n"
     ]
    }
   ],
   "source": [
    "# age-降冪\n",
    "df.select(\"userid\",\"occupation\",\"gender\",\"age\").orderBy(\"age\",ascending=0).show(5)"
   ]
  },
  {
   "cell_type": "code",
   "execution_count": 41,
   "metadata": {
    "collapsed": false
   },
   "outputs": [
    {
     "name": "stdout",
     "output_type": "stream",
     "text": [
      "+------+----------+------+---+\n",
      "|userid|occupation|gender|age|\n",
      "+------+----------+------+---+\n",
      "|    30|   student|     M|  7|\n",
      "|   471|   student|     M| 10|\n",
      "|   289|      none|     M| 11|\n",
      "|   142|     other|     M| 13|\n",
      "|   609|   student|     F| 13|\n",
      "+------+----------+------+---+\n",
      "only showing top 5 rows\n",
      "\n"
     ]
    }
   ],
   "source": [
    "# age-升冪\n",
    "df.select(\"userid\",\"occupation\",\"gender\",\"age\").orderBy(df.age).show(5)"
   ]
  },
  {
   "cell_type": "code",
   "execution_count": 42,
   "metadata": {
    "collapsed": false
   },
   "outputs": [
    {
     "name": "stdout",
     "output_type": "stream",
     "text": [
      "+------+-------------+------+---+\n",
      "|userid|   occupation|gender|age|\n",
      "+------+-------------+------+---+\n",
      "|   481|      retired|     M| 73|\n",
      "|   860|      retired|     F| 70|\n",
      "|   767|     engineer|     M| 70|\n",
      "|   803|administrator|     M| 70|\n",
      "|   559|    executive|     M| 69|\n",
      "+------+-------------+------+---+\n",
      "only showing top 5 rows\n",
      "\n"
     ]
    }
   ],
   "source": [
    "# age-降冪\n",
    "df.select(\"userid\",\"occupation\",\"gender\",\"age\").orderBy(df.age.desc()).show(5)"
   ]
  },
  {
   "cell_type": "code",
   "execution_count": 43,
   "metadata": {
    "collapsed": false
   },
   "outputs": [
    {
     "data": {
      "text/plain": [
       "[['481', '73', 'M', 'retired', '37771'],\n",
       " ['860', '70', 'F', 'retired', '48322'],\n",
       " ['767', '70', 'M', 'engineer', '00000'],\n",
       " ['803', '70', 'M', 'administrator', '78212'],\n",
       " ['559', '69', 'M', 'executive', '10022']]"
      ]
     },
     "execution_count": 43,
     "metadata": {},
     "output_type": "execute_result"
    }
   ],
   "source": [
    "# 多欄位排序資料\n",
    "# 指定排序欄位 age-降冪, gender 性別-升冪\n",
    "userRDD.takeOrdered(5, key = lambda x: (-int(x[1]), x[2]))"
   ]
  },
  {
   "cell_type": "code",
   "execution_count": 44,
   "metadata": {
    "collapsed": false
   },
   "outputs": [
    {
     "name": "stdout",
     "output_type": "stream",
     "text": [
      "+------+---+------+-------------+-------+\n",
      "|userid|age|gender|   occupation|zipcode|\n",
      "+------+---+------+-------------+-------+\n",
      "|   481| 73|     M|      retired|  37771|\n",
      "|   860| 70|     F|      retired|  48322|\n",
      "|   803| 70|     M|administrator|  78212|\n",
      "|   767| 70|     M|     engineer|  00000|\n",
      "|   559| 69|     M|    executive|  10022|\n",
      "+------+---+------+-------------+-------+\n",
      "only showing top 5 rows\n",
      "\n"
     ]
    }
   ],
   "source": [
    "# age-降冪, gender 性別-升冪\n",
    "sqlContext.sql(\"\"\"\n",
    "SELECT userid, age, gender,occupation,zipcode\n",
    "FROM user_table\n",
    "ORDER BY age DESC,gender \"\"\").show(5)"
   ]
  },
  {
   "cell_type": "code",
   "execution_count": 45,
   "metadata": {
    "collapsed": false
   },
   "outputs": [
    {
     "name": "stdout",
     "output_type": "stream",
     "text": [
      "+---+------+-------------+------+-------+\n",
      "|age|gender|   occupation|userid|zipcode|\n",
      "+---+------+-------------+------+-------+\n",
      "| 73|     M|      retired|   481|  37771|\n",
      "| 70|     F|      retired|   860|  48322|\n",
      "| 70|     M|administrator|   803|  78212|\n",
      "| 70|     M|     engineer|   767|  00000|\n",
      "| 69|     M|    executive|   559|  10022|\n",
      "+---+------+-------------+------+-------+\n",
      "only showing top 5 rows\n",
      "\n"
     ]
    }
   ],
   "source": [
    "# 0-升冪, 1-降冪\n",
    "df.orderBy([\"age\",\"gender\"],ascending=[0,1]).show(5)"
   ]
  },
  {
   "cell_type": "code",
   "execution_count": 46,
   "metadata": {
    "collapsed": false
   },
   "outputs": [
    {
     "name": "stdout",
     "output_type": "stream",
     "text": [
      "+---+------+-------------+------+-------+\n",
      "|age|gender|   occupation|userid|zipcode|\n",
      "+---+------+-------------+------+-------+\n",
      "| 73|     M|      retired|   481|  37771|\n",
      "| 70|     F|      retired|   860|  48322|\n",
      "| 70|     M|     engineer|   767|  00000|\n",
      "| 70|     M|administrator|   803|  78212|\n",
      "| 69|     M|    executive|   559|  10022|\n",
      "+---+------+-------------+------+-------+\n",
      "only showing top 5 rows\n",
      "\n"
     ]
    }
   ],
   "source": [
    "# age-降冪, gender-升冪\n",
    "df.orderBy(df.age.desc(),df.gender).show(5)"
   ]
  },
  {
   "cell_type": "code",
   "execution_count": 47,
   "metadata": {
    "collapsed": false
   },
   "outputs": [
    {
     "data": {
      "text/plain": [
       "['M', 'F']"
      ]
     },
     "execution_count": 47,
     "metadata": {},
     "output_type": "execute_result"
    }
   ],
   "source": [
    "# 顯示不重複資料\n",
    "# In[54]:\n",
    "userRDD.map(lambda x:x[2]).distinct().collect()"
   ]
  },
  {
   "cell_type": "code",
   "execution_count": 48,
   "metadata": {
    "collapsed": false
   },
   "outputs": [
    {
     "data": {
      "text/plain": [
       "[('42', 'F'),\n",
       " ('27', 'F'),\n",
       " ('49', 'M'),\n",
       " ('15', 'M'),\n",
       " ('39', 'M'),\n",
       " ('46', 'M'),\n",
       " ('30', 'M'),\n",
       " ('55', 'F'),\n",
       " ('36', 'M'),\n",
       " ('41', 'F'),\n",
       " ('52', 'F'),\n",
       " ('37', 'M'),\n",
       " ('49', 'F'),\n",
       " ('11', 'M'),\n",
       " ('31', 'F'),\n",
       " ('30', 'F'),\n",
       " ('18', 'M'),\n",
       " ('35', 'M'),\n",
       " ('39', 'F'),\n",
       " ('36', 'F')]"
      ]
     },
     "execution_count": 48,
     "metadata": {},
     "output_type": "execute_result"
    }
   ],
   "source": [
    "# 年紀+性別 不重複\n",
    "userRDD.map(lambda x:(x[1],x[2])).distinct().take(20)"
   ]
  },
  {
   "cell_type": "code",
   "execution_count": 49,
   "metadata": {
    "collapsed": false
   },
   "outputs": [
    {
     "name": "stdout",
     "output_type": "stream",
     "text": [
      "+------+\n",
      "|gender|\n",
      "+------+\n",
      "|     F|\n",
      "|     M|\n",
      "+------+\n",
      "\n"
     ]
    }
   ],
   "source": [
    "# SELECT 不重複指令 distinct\n",
    "sqlContext.sql(\"SELECT distinct gender FROM user_table\").show()"
   ]
  },
  {
   "cell_type": "code",
   "execution_count": 50,
   "metadata": {
    "collapsed": false
   },
   "outputs": [
    {
     "name": "stdout",
     "output_type": "stream",
     "text": [
      "+---+------+\n",
      "|age|gender|\n",
      "+---+------+\n",
      "| 39|     F|\n",
      "| 48|     M|\n",
      "| 26|     M|\n",
      "| 28|     M|\n",
      "| 54|     M|\n",
      "| 60|     M|\n",
      "| 50|     M|\n",
      "| 53|     F|\n",
      "| 30|     M|\n",
      "| 48|     F|\n",
      "| 47|     M|\n",
      "| 46|     M|\n",
      "| 56|     M|\n",
      "| 32|     M|\n",
      "| 31|     M|\n",
      "| 53|     M|\n",
      "| 20|     F|\n",
      "| 29|     F|\n",
      "| 21|     F|\n",
      "| 42|     M|\n",
      "+---+------+\n",
      "only showing top 20 rows\n",
      "\n"
     ]
    }
   ],
   "source": [
    "# SELECT 年紀+性別 不重複指令 distinct\n",
    "sqlContext.sql(\"SELECT distinct age,gender FROM user_table\").show()"
   ]
  },
  {
   "cell_type": "code",
   "execution_count": 51,
   "metadata": {
    "collapsed": false
   },
   "outputs": [
    {
     "name": "stdout",
     "output_type": "stream",
     "text": [
      "+------+\n",
      "|gender|\n",
      "+------+\n",
      "|     F|\n",
      "|     M|\n",
      "+------+\n",
      "\n"
     ]
    }
   ],
   "source": [
    "# 使用 dataframe 顯示性別不重複資料\n",
    "df.select(\"gender\").distinct().show()"
   ]
  },
  {
   "cell_type": "code",
   "execution_count": 52,
   "metadata": {
    "collapsed": false
   },
   "outputs": [
    {
     "name": "stdout",
     "output_type": "stream",
     "text": [
      "+---+------+\n",
      "|age|gender|\n",
      "+---+------+\n",
      "| 39|     F|\n",
      "| 48|     M|\n",
      "| 26|     M|\n",
      "| 28|     M|\n",
      "| 54|     M|\n",
      "| 60|     M|\n",
      "| 50|     M|\n",
      "| 53|     F|\n",
      "| 30|     M|\n",
      "| 48|     F|\n",
      "| 47|     M|\n",
      "| 46|     M|\n",
      "| 56|     M|\n",
      "| 32|     M|\n",
      "| 31|     M|\n",
      "| 53|     M|\n",
      "| 20|     F|\n",
      "| 29|     F|\n",
      "| 21|     F|\n",
      "| 42|     M|\n",
      "+---+------+\n",
      "only showing top 20 rows\n",
      "\n"
     ]
    }
   ],
   "source": [
    "# 使用 dataframe 顯示年紀+性別不重複資料\n",
    "df.select(\"age\",\"gender\").distinct().show()"
   ]
  },
  {
   "cell_type": "code",
   "execution_count": 53,
   "metadata": {
    "collapsed": false
   },
   "outputs": [
    {
     "data": {
      "text/plain": [
       "[('M', 670), ('F', 273)]"
      ]
     },
     "execution_count": 53,
     "metadata": {},
     "output_type": "execute_result"
    }
   ],
   "source": [
    "# 群組統計資料\n",
    "# 依照性別統計資料\n",
    "userRDD.map(lambda x: (x[2],1)).reduceByKey(lambda x,y: x+y).collect()"
   ]
  },
  {
   "cell_type": "code",
   "execution_count": 54,
   "metadata": {
    "collapsed": false
   },
   "outputs": [
    {
     "data": {
      "text/plain": [
       "[(('F', 'entertainment'), 2),\n",
       " (('F', 'librarian'), 29),\n",
       " (('F', 'marketing'), 10),\n",
       " (('F', 'technician'), 1),\n",
       " (('M', 'writer'), 26),\n",
       " (('M', 'librarian'), 22),\n",
       " (('F', 'salesman'), 3),\n",
       " (('M', 'technician'), 26),\n",
       " (('F', 'healthcare'), 11),\n",
       " (('M', 'healthcare'), 5),\n",
       " (('F', 'writer'), 19),\n",
       " (('M', 'marketing'), 16),\n",
       " (('M', 'entertainment'), 16),\n",
       " (('F', 'lawyer'), 2),\n",
       " (('M', 'scientist'), 28),\n",
       " (('M', 'salesman'), 9),\n",
       " (('F', 'scientist'), 3),\n",
       " (('M', 'lawyer'), 10),\n",
       " (('M', 'educator'), 69),\n",
       " (('F', 'educator'), 26),\n",
       " (('M', 'engineer'), 65),\n",
       " (('M', 'doctor'), 7),\n",
       " (('M', 'executive'), 29),\n",
       " (('F', 'executive'), 3),\n",
       " (('M', 'homemaker'), 1),\n",
       " (('M', 'programmer'), 60),\n",
       " (('F', 'none'), 4),\n",
       " (('M', 'artist'), 15),\n",
       " (('F', 'engineer'), 2),\n",
       " (('F', 'student'), 60),\n",
       " (('M', 'administrator'), 43),\n",
       " (('F', 'programmer'), 6),\n",
       " (('F', 'homemaker'), 6),\n",
       " (('M', 'student'), 136),\n",
       " (('M', 'other'), 69),\n",
       " (('F', 'other'), 36),\n",
       " (('F', 'retired'), 1),\n",
       " (('M', 'none'), 5),\n",
       " (('F', 'artist'), 13),\n",
       " (('M', 'retired'), 13),\n",
       " (('F', 'administrator'), 36)]"
      ]
     },
     "execution_count": 54,
     "metadata": {},
     "output_type": "execute_result"
    }
   ],
   "source": [
    "# 依照性別、職業統計資料\n",
    "userRDD.map(lambda x: ((x[2],x[3]),1)).reduceByKey(lambda x,y: x+y).collect()"
   ]
  },
  {
   "cell_type": "code",
   "execution_count": 55,
   "metadata": {
    "collapsed": false
   },
   "outputs": [
    {
     "name": "stdout",
     "output_type": "stream",
     "text": [
      "+------+------+\n",
      "|gender|counts|\n",
      "+------+------+\n",
      "|     F|   273|\n",
      "|     M|   670|\n",
      "+------+------+\n",
      "\n"
     ]
    }
   ],
   "source": [
    "# Spark SQL 依照性別統計資料\n",
    "sqlContext.sql(\"\"\" \n",
    "SELECT gender ,count(*) counts  \n",
    "FROM user_table \n",
    "GROUP BY gender\"\"\").show()"
   ]
  },
  {
   "cell_type": "code",
   "execution_count": 56,
   "metadata": {
    "collapsed": false
   },
   "outputs": [
    {
     "name": "stdout",
     "output_type": "stream",
     "text": [
      "+------+-------------+------+\n",
      "|gender|   occupation|counts|\n",
      "+------+-------------+------+\n",
      "|     M|    executive|    29|\n",
      "|     M|     educator|    69|\n",
      "|     F|         none|     4|\n",
      "|     F|entertainment|     2|\n",
      "|     F|      retired|     1|\n",
      "|     F|       artist|    13|\n",
      "|     F|    librarian|    29|\n",
      "|     F|     engineer|     2|\n",
      "|     F|   healthcare|    11|\n",
      "|     F|administrator|    36|\n",
      "|     M|        other|    69|\n",
      "|     M|    homemaker|     1|\n",
      "|     F|       lawyer|     2|\n",
      "|     M|   programmer|    60|\n",
      "|     M|     salesman|     9|\n",
      "|     M|         none|     5|\n",
      "|     M|entertainment|    16|\n",
      "|     M|    marketing|    16|\n",
      "|     M|   technician|    26|\n",
      "|     M|administrator|    43|\n",
      "|     F|    marketing|    10|\n",
      "|     F|   programmer|     6|\n",
      "|     F|   technician|     1|\n",
      "|     F|    executive|     3|\n",
      "|     M|    scientist|    28|\n",
      "|     F|     educator|    26|\n",
      "|     M|      retired|    13|\n",
      "|     M|   healthcare|     5|\n",
      "|     M|       writer|    26|\n",
      "|     M|       lawyer|    10|\n",
      "|     M|      student|   136|\n",
      "|     F|     salesman|     3|\n",
      "|     M|       doctor|     7|\n",
      "|     M|       artist|    15|\n",
      "|     F|    homemaker|     6|\n",
      "|     M|     engineer|    65|\n",
      "|     F|        other|    36|\n",
      "|     F|       writer|    19|\n",
      "|     F|      student|    60|\n",
      "|     F|    scientist|     3|\n",
      "|     M|    librarian|    22|\n",
      "+------+-------------+------+\n",
      "\n"
     ]
    }
   ],
   "source": [
    "# Spark SQL  依照性別、職業統計資料\n",
    "sqlContext.sql(\"\"\" \n",
    "SELECT gender,occupation,count(*) counts  \n",
    "FROM   user_table \n",
    "GROUP BY gender,occupation \n",
    "\"\"\").show(100)"
   ]
  },
  {
   "cell_type": "code",
   "execution_count": 57,
   "metadata": {
    "collapsed": false
   },
   "outputs": [
    {
     "name": "stdout",
     "output_type": "stream",
     "text": [
      "+------+-----+\n",
      "|gender|count|\n",
      "+------+-----+\n",
      "|     F|  273|\n",
      "|     M|  670|\n",
      "+------+-----+\n",
      "\n"
     ]
    }
   ],
   "source": [
    "# Dataframe 依照性別統計資料\n",
    "user_df.select(\"gender\").groupby(\"gender\").count().show()  "
   ]
  },
  {
   "cell_type": "code",
   "execution_count": 58,
   "metadata": {
    "collapsed": false
   },
   "outputs": [
    {
     "name": "stdout",
     "output_type": "stream",
     "text": [
      "+------+-------------+-----+\n",
      "|gender|   occupation|count|\n",
      "+------+-------------+-----+\n",
      "|     F|administrator|   36|\n",
      "|     F|       artist|   13|\n",
      "|     F|     educator|   26|\n",
      "|     F|     engineer|    2|\n",
      "|     F|entertainment|    2|\n",
      "|     F|    executive|    3|\n",
      "|     F|   healthcare|   11|\n",
      "|     F|    homemaker|    6|\n",
      "|     F|       lawyer|    2|\n",
      "|     F|    librarian|   29|\n",
      "|     F|    marketing|   10|\n",
      "|     F|         none|    4|\n",
      "|     F|        other|   36|\n",
      "|     F|   programmer|    6|\n",
      "|     F|      retired|    1|\n",
      "|     F|     salesman|    3|\n",
      "|     F|    scientist|    3|\n",
      "|     F|      student|   60|\n",
      "|     F|   technician|    1|\n",
      "|     F|       writer|   19|\n",
      "|     M|administrator|   43|\n",
      "|     M|       artist|   15|\n",
      "|     M|       doctor|    7|\n",
      "|     M|     educator|   69|\n",
      "|     M|     engineer|   65|\n",
      "|     M|entertainment|   16|\n",
      "|     M|    executive|   29|\n",
      "|     M|   healthcare|    5|\n",
      "|     M|    homemaker|    1|\n",
      "|     M|       lawyer|   10|\n",
      "|     M|    librarian|   22|\n",
      "|     M|    marketing|   16|\n",
      "|     M|         none|    5|\n",
      "|     M|        other|   69|\n",
      "|     M|   programmer|   60|\n",
      "|     M|      retired|   13|\n",
      "|     M|     salesman|    9|\n",
      "|     M|    scientist|   28|\n",
      "|     M|      student|  136|\n",
      "|     M|   technician|   26|\n",
      "|     M|       writer|   26|\n",
      "+------+-------------+-----+\n",
      "\n"
     ]
    }
   ],
   "source": [
    "# Dataframe 依照性別、職業統計資料\n",
    "user_df.select(\"gender\",\"occupation\").groupby(\"gender\",\"occupation\").count().orderBy(\"gender\",\"occupation\").show(100)"
   ]
  },
  {
   "cell_type": "code",
   "execution_count": 59,
   "metadata": {
    "collapsed": false
   },
   "outputs": [
    {
     "name": "stdout",
     "output_type": "stream",
     "text": [
      "+-----------------+---+---+\n",
      "|occupation_gender|  F|  M|\n",
      "+-----------------+---+---+\n",
      "|        scientist|  3| 28|\n",
      "|          student| 60|136|\n",
      "|           writer| 19| 26|\n",
      "|         salesman|  3|  9|\n",
      "|          retired|  1| 13|\n",
      "|    administrator| 36| 43|\n",
      "|       programmer|  6| 60|\n",
      "|           doctor|  0|  7|\n",
      "|        homemaker|  6|  1|\n",
      "|        executive|  3| 29|\n",
      "|         engineer|  2| 65|\n",
      "|    entertainment|  2| 16|\n",
      "|        marketing| 10| 16|\n",
      "|       technician|  1| 26|\n",
      "|           artist| 13| 15|\n",
      "|        librarian| 29| 22|\n",
      "|           lawyer|  2| 10|\n",
      "|         educator| 26| 69|\n",
      "|       healthcare| 11|  5|\n",
      "|             none|  4|  5|\n",
      "|            other| 36| 69|\n",
      "+-----------------+---+---+\n",
      "\n"
     ]
    }
   ],
   "source": [
    "# 使用 crosstab 依照性別、職業統計資料\n",
    "user_df.stat.crosstab(\"occupation\",\"gender\").show(30)"
   ]
  },
  {
   "cell_type": "code",
   "execution_count": 60,
   "metadata": {
    "collapsed": false
   },
   "outputs": [
    {
     "name": "stdout",
     "output_type": "stream",
     "text": [
      "+-------+-----------------+-----------------+\n",
      "|summary|              age|           userid|\n",
      "+-------+-----------------+-----------------+\n",
      "|  count|              943|              943|\n",
      "|   mean|34.05196182396607|            472.0|\n",
      "| stddev|12.19273973305903|272.3649512449549|\n",
      "|    min|                7|                1|\n",
      "|    max|               73|              943|\n",
      "+-------+-----------------+-----------------+\n",
      "\n"
     ]
    }
   ],
   "source": [
    "# Dataframe 統計\n",
    "user_df.describe().show()"
   ]
  },
  {
   "cell_type": "code",
   "execution_count": 61,
   "metadata": {
    "collapsed": false
   },
   "outputs": [
    {
     "data": {
      "text/plain": [
       "['\"Zipcode\",\"ZipCodeType\",\"City\",\"State\",\"LocationType\",\"Lat\",\"Long\",\"Location\",\"Decommisioned\",\"TaxReturnsFiled\",\"EstimatedPopulation\",\"TotalWages\"',\n",
       " '\"00705\",\"STANDARD\",\"AIBONITO\",\"PR\",\"PRIMARY\",18.14,-66.26,\"NA-US-PR-AIBONITO\",\"false\",,,']"
      ]
     },
     "execution_count": 61,
     "metadata": {},
     "output_type": "execute_result"
    }
   ],
   "source": [
    "# Join關聯資料 free-zipcode-database-Primary.csv\n",
    "# 資料載入\n",
    "rawDataWithHeader = sc.textFile(\"hdfs:///Kevin/free-zipcode-database-Primary.csv\")\n",
    "rawDataWithHeader.take(2)"
   ]
  },
  {
   "cell_type": "code",
   "execution_count": 62,
   "metadata": {
    "collapsed": false
   },
   "outputs": [
    {
     "data": {
      "text/plain": [
       "'\"00705\",\"STANDARD\",\"AIBONITO\",\"PR\",\"PRIMARY\",18.14,-66.26,\"NA-US-PR-AIBONITO\",\"false\",,,'"
      ]
     },
     "execution_count": 62,
     "metadata": {},
     "output_type": "execute_result"
    }
   ],
   "source": [
    "# 第一筆是欄位名稱，要先移除\n",
    "header = rawDataWithHeader.first()\n",
    "rawData = rawDataWithHeader.filter(lambda x:x !=header)\n",
    "rawData.first()"
   ]
  },
  {
   "cell_type": "code",
   "execution_count": 63,
   "metadata": {
    "collapsed": false
   },
   "outputs": [
    {
     "data": {
      "text/plain": [
       "'00705,STANDARD,AIBONITO,PR,PRIMARY,18.14,-66.26,NA-US-PR-AIBONITO,false,,,'"
      ]
     },
     "execution_count": 63,
     "metadata": {},
     "output_type": "execute_result"
    }
   ],
   "source": [
    "# 去除 \" 符號\n",
    "rData=rawData.map(lambda x: x.replace(\"\\\"\", \"\"))   \n",
    "rData.first()"
   ]
  },
  {
   "cell_type": "code",
   "execution_count": 64,
   "metadata": {
    "collapsed": false
   },
   "outputs": [
    {
     "data": {
      "text/plain": [
       "['00705',\n",
       " 'STANDARD',\n",
       " 'AIBONITO',\n",
       " 'PR',\n",
       " 'PRIMARY',\n",
       " '18.14',\n",
       " '-66.26',\n",
       " 'NA-US-PR-AIBONITO',\n",
       " 'false',\n",
       " '',\n",
       " '',\n",
       " '']"
      ]
     },
     "execution_count": 64,
     "metadata": {},
     "output_type": "execute_result"
    }
   ],
   "source": [
    "# 以 , 區隔取出每筆資料\n",
    "ZipRDD = rData.map(lambda x: x.split(\",\"))\n",
    "ZipRDD.first()"
   ]
  },
  {
   "cell_type": "code",
   "execution_count": 65,
   "metadata": {
    "collapsed": false
   },
   "outputs": [
    {
     "data": {
      "text/plain": [
       "[Row(city='AIBONITO', state='PR', zipCodeType='STANDARD', zipcode=705),\n",
       " Row(city='ANASCO', state='PR', zipCodeType='STANDARD', zipcode=610),\n",
       " Row(city='ANGELES', state='PR', zipCodeType='PO BOX', zipcode=611),\n",
       " Row(city='ARECIBO', state='PR', zipCodeType='STANDARD', zipcode=612),\n",
       " Row(city='ADJUNTAS', state='PR', zipCodeType='STANDARD', zipcode=601)]"
      ]
     },
     "execution_count": 65,
     "metadata": {},
     "output_type": "execute_result"
    }
   ],
   "source": [
    "# 建立 zipcode_table\n",
    "# 使用 Row 建立每一個欄位名稱與資料型態\n",
    "from pyspark.sql import Row\n",
    "zipcode_data =ZipRDD.map(lambda p: \n",
    "   Row(\n",
    "    zipcode=int(p[0]), \n",
    "    zipCodeType=p[1],\n",
    "    city=p[2],\n",
    "    state=p[3]\n",
    "    )\n",
    ")\n",
    "zipcode_data.take(5)"
   ]
  },
  {
   "cell_type": "code",
   "execution_count": 66,
   "metadata": {
    "collapsed": false
   },
   "outputs": [
    {
     "name": "stdout",
     "output_type": "stream",
     "text": [
      "root\n",
      " |-- city: string (nullable = true)\n",
      " |-- state: string (nullable = true)\n",
      " |-- zipCodeType: string (nullable = true)\n",
      " |-- zipcode: long (nullable = true)\n",
      "\n"
     ]
    }
   ],
   "source": [
    "# 建立 DataFrame\n",
    "zipcode_df = sqlContext.createDataFrame(zipcode_data)\n",
    "zipcode_df.printSchema()"
   ]
  },
  {
   "cell_type": "code",
   "execution_count": 67,
   "metadata": {
    "collapsed": false
   },
   "outputs": [
    {
     "name": "stdout",
     "output_type": "stream",
     "text": [
      "+---------+-----+-----------+-------+\n",
      "|     city|state|zipCodeType|zipcode|\n",
      "+---------+-----+-----------+-------+\n",
      "| AIBONITO|   PR|   STANDARD|    705|\n",
      "|   ANASCO|   PR|   STANDARD|    610|\n",
      "|  ANGELES|   PR|     PO BOX|    611|\n",
      "|  ARECIBO|   PR|   STANDARD|    612|\n",
      "| ADJUNTAS|   PR|   STANDARD|    601|\n",
      "| CASTANER|   PR|     PO BOX|    631|\n",
      "|   AGUADA|   PR|   STANDARD|    602|\n",
      "|AGUADILLA|   PR|   STANDARD|    603|\n",
      "|AGUADILLA|   PR|     PO BOX|    604|\n",
      "|AGUADILLA|   PR|     PO BOX|    605|\n",
      "+---------+-----+-----------+-------+\n",
      "only showing top 10 rows\n",
      "\n"
     ]
    }
   ],
   "source": [
    "# 登入暫存資料表\n",
    "zipcode_df.registerTempTable(\"zipcode_table\")\n",
    "zipcode_df.show(10)"
   ]
  },
  {
   "cell_type": "code",
   "execution_count": 68,
   "metadata": {
    "collapsed": false
   },
   "outputs": [
    {
     "name": "stdout",
     "output_type": "stream",
     "text": [
      "+---------+-----+-----------+-------+\n",
      "|     city|state|zipCodeType|zipcode|\n",
      "+---------+-----+-----------+-------+\n",
      "| AIBONITO|   PR|   STANDARD|    705|\n",
      "|   ANASCO|   PR|   STANDARD|    610|\n",
      "|  ANGELES|   PR|     PO BOX|    611|\n",
      "|  ARECIBO|   PR|   STANDARD|    612|\n",
      "| ADJUNTAS|   PR|   STANDARD|    601|\n",
      "| CASTANER|   PR|     PO BOX|    631|\n",
      "|   AGUADA|   PR|   STANDARD|    602|\n",
      "|AGUADILLA|   PR|   STANDARD|    603|\n",
      "|AGUADILLA|   PR|     PO BOX|    604|\n",
      "|AGUADILLA|   PR|     PO BOX|    605|\n",
      "+---------+-----+-----------+-------+\n",
      "only showing top 10 rows\n",
      "\n"
     ]
    }
   ],
   "source": [
    "# 將 user_df 關聯 zipcode_df\n",
    "sqlContext.sql(\"\"\" \n",
    "SELECT z.* \n",
    "FROM zipcode_table z \n",
    "\"\"\").show(10)"
   ]
  },
  {
   "cell_type": "code",
   "execution_count": 69,
   "metadata": {
    "collapsed": false
   },
   "outputs": [
    {
     "name": "stdout",
     "output_type": "stream",
     "text": [
      "+---+------+-------------+------+-------+----------+-----+\n",
      "|age|gender|   occupation|userid|zipcode|      city|state|\n",
      "+---+------+-------------+------+-------+----------+-----+\n",
      "| 45|     M|administrator|    48|  12550|  NEWBURGH|   NY|\n",
      "| 52|     F|    librarian|   204|  10960|     NYACK|   NY|\n",
      "| 42|     M|        other|   766|  10960|     NYACK|   NY|\n",
      "| 35|     F|        other|   760|  14211|   BUFFALO|   NY|\n",
      "| 32|     F|        other|   155|  11217|  BROOKLYN|   NY|\n",
      "| 30|     F|       writer|   557|  11217|  BROOKLYN|   NY|\n",
      "| 27|     M|    marketing|   806|  11217|  BROOKLYN|   NY|\n",
      "| 35|     F|     educator|   450|  11758|MASSAPEQUA|   NY|\n",
      "| 28|     F|      student|   230|  14476|   KENDALL|   NY|\n",
      "| 23|     M|administrator|   509|  10011|  NEW YORK|   NY|\n",
      "+---+------+-------------+------+-------+----------+-----+\n",
      "only showing top 10 rows\n",
      "\n"
     ]
    }
   ],
   "source": [
    "# 將 user_df 左關聯 zipcode_df，查看紐約州的使用者資料\n",
    "sqlContext.sql(\"\"\" \n",
    "SELECT u.* ,z.city,z.state \n",
    "FROM user_table u \n",
    "LEFT JOIN zipcode_table z  ON u.zipcode = z.zipcode\n",
    "WHERE z.state='NY'\n",
    "\"\"\").show(10)"
   ]
  },
  {
   "cell_type": "code",
   "execution_count": 70,
   "metadata": {
    "collapsed": false
   },
   "outputs": [
    {
     "name": "stdout",
     "output_type": "stream",
     "text": [
      "+-----+--------+\n",
      "|state|count(1)|\n",
      "+-----+--------+\n",
      "|   AZ|      14|\n",
      "|   SC|      11|\n",
      "|   LA|       6|\n",
      "|   MN|      78|\n",
      "|   NJ|      18|\n",
      "|   DC|      14|\n",
      "|   OR|      20|\n",
      "| null|      35|\n",
      "|   VA|      27|\n",
      "|   RI|       3|\n",
      "|   KY|      11|\n",
      "|   WY|       1|\n",
      "|   NH|       6|\n",
      "|   MI|      23|\n",
      "|   NV|       3|\n",
      "|   WI|      22|\n",
      "|   ID|       7|\n",
      "|   CA|     116|\n",
      "|   CT|      17|\n",
      "|   NE|       6|\n",
      "|   MT|       2|\n",
      "|   NC|      19|\n",
      "|   VT|       5|\n",
      "|   MD|      27|\n",
      "|   DE|       3|\n",
      "|   MO|      17|\n",
      "|   IL|      50|\n",
      "|   ME|       2|\n",
      "|   WA|      24|\n",
      "|   ND|       2|\n",
      "|   MS|       3|\n",
      "|   AL|       3|\n",
      "|   IN|       9|\n",
      "|   AE|       1|\n",
      "|   OH|      32|\n",
      "|   TN|      12|\n",
      "|   IA|      14|\n",
      "|   NM|       2|\n",
      "|   PA|      34|\n",
      "|   SD|       1|\n",
      "|   NY|      60|\n",
      "|   TX|      51|\n",
      "|   WV|       3|\n",
      "|   GA|      19|\n",
      "|   MA|      35|\n",
      "|   KS|       4|\n",
      "|   CO|      20|\n",
      "|   FL|      24|\n",
      "|   AK|       5|\n",
      "|   AR|       1|\n",
      "|   OK|       9|\n",
      "|   AP|       1|\n",
      "|   UT|       9|\n",
      "|   HI|       2|\n",
      "+-----+--------+\n",
      "\n"
     ]
    }
   ],
   "source": [
    "# 依州別統計\n",
    "sqlContext.sql(\"\"\" \n",
    "SELECT z.state ,count(*)\n",
    "FROM user_table u\n",
    "LEFT JOIN zipcode_table z  ON u.zipcode = z.zipcode\n",
    "GROUP BY z.state \n",
    "\"\"\").show(60)"
   ]
  },
  {
   "cell_type": "code",
   "execution_count": 71,
   "metadata": {
    "collapsed": false
   },
   "outputs": [
    {
     "name": "stdout",
     "output_type": "stream",
     "text": [
      "root\n",
      " |-- age: long (nullable = true)\n",
      " |-- gender: string (nullable = true)\n",
      " |-- occupation: string (nullable = true)\n",
      " |-- userid: long (nullable = true)\n",
      " |-- zipcode: string (nullable = true)\n",
      " |-- city: string (nullable = true)\n",
      " |-- state: string (nullable = true)\n",
      " |-- zipCodeType: string (nullable = true)\n",
      " |-- zipcode: long (nullable = true)\n",
      "\n"
     ]
    }
   ],
   "source": [
    "# 關聯結果，建立另一個 Dataframe joined_df\n",
    "joined_df=user_df.join(zipcode_df , user_df.zipcode == zipcode_df.zipcode, \"left_outer\")\n",
    "joined_df.printSchema()"
   ]
  },
  {
   "cell_type": "code",
   "execution_count": 72,
   "metadata": {
    "collapsed": false
   },
   "outputs": [
    {
     "name": "stdout",
     "output_type": "stream",
     "text": [
      "+---+------+----------+------+-------+-------------+-----+-----------+-------+\n",
      "|age|gender|occupation|userid|zipcode|         city|state|zipCodeType|zipcode|\n",
      "+---+------+----------+------+-------+-------------+-----+-----------+-------+\n",
      "| 53|     F|     other|     2|  94043|MOUNTAIN VIEW|   CA|   STANDARD|  94043|\n",
      "| 53|     M|    lawyer|    10|  90703|     CERRITOS|   CA|   STANDARD|  90703|\n",
      "| 29|     M|     other|   478|  10019|     NEW YORK|   NY|   STANDARD|  10019|\n",
      "| 30|     M|programmer|   475|  75230|       DALLAS|   TX|   STANDARD|  75230|\n",
      "| 28|     M|   student|   476|  60440|  BOLINGBROOK|   IL|   STANDARD|  60440|\n",
      "| 23|     F|   student|   477|  02125|   DORCHESTER|   MA|   STANDARD|   2125|\n",
      "| 73|     M|   retired|   481|  37771|  LENOIR CITY|   TN|   STANDARD|  37771|\n",
      "| 29|     M|   student|   473|  94708|     BERKELEY|   CA|   STANDARD|  94708|\n",
      "| 23|     M|    writer|     3|  32067|  ORANGE PARK|   FL|     PO BOX|  32067|\n",
      "| 18|     F|   student|   482|  40256|   LOUISVILLE|   KY|     PO BOX|  40256|\n",
      "+---+------+----------+------+-------+-------------+-----+-----------+-------+\n",
      "only showing top 10 rows\n",
      "\n"
     ]
    }
   ],
   "source": [
    "# 顯示前10筆資料\n",
    "joined_df.show(10)"
   ]
  },
  {
   "cell_type": "code",
   "execution_count": 73,
   "metadata": {
    "collapsed": false
   },
   "outputs": [
    {
     "name": "stdout",
     "output_type": "stream",
     "text": [
      "+---+------+-------------+------+-------+----------+-----+-----------+-------+\n",
      "|age|gender|   occupation|userid|zipcode|      city|state|zipCodeType|zipcode|\n",
      "+---+------+-------------+------+-------+----------+-----+-----------+-------+\n",
      "| 45|     M|administrator|    48|  12550|  NEWBURGH|   NY|   STANDARD|  12550|\n",
      "| 52|     F|    librarian|   204|  10960|     NYACK|   NY|   STANDARD|  10960|\n",
      "| 42|     M|        other|   766|  10960|     NYACK|   NY|   STANDARD|  10960|\n",
      "| 35|     F|        other|   760|  14211|   BUFFALO|   NY|   STANDARD|  14211|\n",
      "| 32|     F|        other|   155|  11217|  BROOKLYN|   NY|   STANDARD|  11217|\n",
      "| 30|     F|       writer|   557|  11217|  BROOKLYN|   NY|   STANDARD|  11217|\n",
      "| 27|     M|    marketing|   806|  11217|  BROOKLYN|   NY|   STANDARD|  11217|\n",
      "| 35|     F|     educator|   450|  11758|MASSAPEQUA|   NY|   STANDARD|  11758|\n",
      "| 28|     F|      student|   230|  14476|   KENDALL|   NY|   STANDARD|  14476|\n",
      "| 23|     M|administrator|   509|  10011|  NEW YORK|   NY|   STANDARD|  10011|\n",
      "+---+------+-------------+------+-------+----------+-----+-----------+-------+\n",
      "only showing top 10 rows\n",
      "\n"
     ]
    }
   ],
   "source": [
    "# 篩選紐約使用者資料\n",
    "joined_df.filter(\"state='NY' \").show(10)"
   ]
  },
  {
   "cell_type": "code",
   "execution_count": 74,
   "metadata": {
    "collapsed": false
   },
   "outputs": [
    {
     "name": "stdout",
     "output_type": "stream",
     "text": [
      "+-----+-----+\n",
      "|state|count|\n",
      "+-----+-----+\n",
      "|   AZ|   14|\n",
      "|   SC|   11|\n",
      "|   LA|    6|\n",
      "|   MN|   78|\n",
      "|   NJ|   18|\n",
      "|   DC|   14|\n",
      "|   OR|   20|\n",
      "| null|   35|\n",
      "|   VA|   27|\n",
      "|   RI|    3|\n",
      "|   KY|   11|\n",
      "|   WY|    1|\n",
      "|   NH|    6|\n",
      "|   MI|   23|\n",
      "|   NV|    3|\n",
      "|   WI|   22|\n",
      "|   ID|    7|\n",
      "|   CA|  116|\n",
      "|   CT|   17|\n",
      "|   NE|    6|\n",
      "|   MT|    2|\n",
      "|   NC|   19|\n",
      "|   VT|    5|\n",
      "|   MD|   27|\n",
      "|   DE|    3|\n",
      "|   MO|   17|\n",
      "|   IL|   50|\n",
      "|   ME|    2|\n",
      "|   WA|   24|\n",
      "|   ND|    2|\n",
      "|   MS|    3|\n",
      "|   AL|    3|\n",
      "|   IN|    9|\n",
      "|   AE|    1|\n",
      "|   OH|   32|\n",
      "|   TN|   12|\n",
      "|   IA|   14|\n",
      "|   NM|    2|\n",
      "|   PA|   34|\n",
      "|   SD|    1|\n",
      "|   NY|   60|\n",
      "|   TX|   51|\n",
      "|   WV|    3|\n",
      "|   GA|   19|\n",
      "|   MA|   35|\n",
      "|   KS|    4|\n",
      "|   CO|   20|\n",
      "|   FL|   24|\n",
      "|   AK|    5|\n",
      "|   AR|    1|\n",
      "|   OK|    9|\n",
      "|   AP|    1|\n",
      "|   UT|    9|\n",
      "|   HI|    2|\n",
      "+-----+-----+\n",
      "\n"
     ]
    }
   ],
   "source": [
    "# 依照州別群組統計\n",
    "GroupByState_df=joined_df.groupBy(\"state\").count()\n",
    "GroupByState_df.show(60)"
   ]
  },
  {
   "cell_type": "code",
   "execution_count": 75,
   "metadata": {
    "collapsed": false
   },
   "outputs": [
    {
     "name": "stdout",
     "output_type": "stream",
     "text": [
      "+-----+-----+\n",
      "|state|count|\n",
      "+-----+-----+\n",
      "|   AZ|   14|\n",
      "|   SC|   11|\n",
      "|   LA|    6|\n",
      "|   MN|   78|\n",
      "|   NJ|   18|\n",
      "|   DC|   14|\n",
      "|   OR|   20|\n",
      "| null|   35|\n",
      "|   VA|   27|\n",
      "|   RI|    3|\n",
      "|   KY|   11|\n",
      "|   WY|    1|\n",
      "|   NH|    6|\n",
      "|   MI|   23|\n",
      "|   NV|    3|\n",
      "|   WI|   22|\n",
      "|   ID|    7|\n",
      "|   CA|  116|\n",
      "|   CT|   17|\n",
      "|   NE|    6|\n",
      "|   MT|    2|\n",
      "|   NC|   19|\n",
      "|   VT|    5|\n",
      "|   MD|   27|\n",
      "|   DE|    3|\n",
      "|   MO|   17|\n",
      "|   IL|   50|\n",
      "|   ME|    2|\n",
      "|   WA|   24|\n",
      "|   ND|    2|\n",
      "|   MS|    3|\n",
      "|   AL|    3|\n",
      "|   IN|    9|\n",
      "|   AE|    1|\n",
      "|   OH|   32|\n",
      "|   TN|   12|\n",
      "|   IA|   14|\n",
      "|   NM|    2|\n",
      "|   PA|   34|\n",
      "|   SD|    1|\n",
      "|   NY|   60|\n",
      "|   TX|   51|\n",
      "|   WV|    3|\n",
      "|   GA|   19|\n",
      "|   MA|   35|\n",
      "|   KS|    4|\n",
      "|   CO|   20|\n",
      "|   FL|   24|\n",
      "|   AK|    5|\n",
      "|   AR|    1|\n",
      "|   OK|    9|\n",
      "|   AP|    1|\n",
      "|   UT|    9|\n",
      "|   HI|    2|\n",
      "+-----+-----+\n",
      "\n"
     ]
    }
   ],
   "source": [
    "# 依照州別群組統計\n",
    "GroupByState_df=joined_df.groupBy(\"state\").count()\n",
    "GroupByState_df.show(60)"
   ]
  },
  {
   "cell_type": "code",
   "execution_count": 76,
   "metadata": {
    "collapsed": false
   },
   "outputs": [
    {
     "data": {
      "text/html": [
       "<div>\n",
       "<table border=\"1\" class=\"dataframe\">\n",
       "  <thead>\n",
       "    <tr style=\"text-align: right;\">\n",
       "      <th></th>\n",
       "      <th>count</th>\n",
       "    </tr>\n",
       "    <tr>\n",
       "      <th>state</th>\n",
       "      <th></th>\n",
       "    </tr>\n",
       "  </thead>\n",
       "  <tbody>\n",
       "    <tr>\n",
       "      <th>AZ</th>\n",
       "      <td>14</td>\n",
       "    </tr>\n",
       "    <tr>\n",
       "      <th>SC</th>\n",
       "      <td>11</td>\n",
       "    </tr>\n",
       "    <tr>\n",
       "      <th>LA</th>\n",
       "      <td>6</td>\n",
       "    </tr>\n",
       "    <tr>\n",
       "      <th>MN</th>\n",
       "      <td>78</td>\n",
       "    </tr>\n",
       "    <tr>\n",
       "      <th>NJ</th>\n",
       "      <td>18</td>\n",
       "    </tr>\n",
       "    <tr>\n",
       "      <th>DC</th>\n",
       "      <td>14</td>\n",
       "    </tr>\n",
       "    <tr>\n",
       "      <th>OR</th>\n",
       "      <td>20</td>\n",
       "    </tr>\n",
       "    <tr>\n",
       "      <th>NaN</th>\n",
       "      <td>35</td>\n",
       "    </tr>\n",
       "    <tr>\n",
       "      <th>VA</th>\n",
       "      <td>27</td>\n",
       "    </tr>\n",
       "    <tr>\n",
       "      <th>RI</th>\n",
       "      <td>3</td>\n",
       "    </tr>\n",
       "    <tr>\n",
       "      <th>KY</th>\n",
       "      <td>11</td>\n",
       "    </tr>\n",
       "    <tr>\n",
       "      <th>WY</th>\n",
       "      <td>1</td>\n",
       "    </tr>\n",
       "    <tr>\n",
       "      <th>NH</th>\n",
       "      <td>6</td>\n",
       "    </tr>\n",
       "    <tr>\n",
       "      <th>MI</th>\n",
       "      <td>23</td>\n",
       "    </tr>\n",
       "    <tr>\n",
       "      <th>NV</th>\n",
       "      <td>3</td>\n",
       "    </tr>\n",
       "    <tr>\n",
       "      <th>WI</th>\n",
       "      <td>22</td>\n",
       "    </tr>\n",
       "    <tr>\n",
       "      <th>ID</th>\n",
       "      <td>7</td>\n",
       "    </tr>\n",
       "    <tr>\n",
       "      <th>CA</th>\n",
       "      <td>116</td>\n",
       "    </tr>\n",
       "    <tr>\n",
       "      <th>CT</th>\n",
       "      <td>17</td>\n",
       "    </tr>\n",
       "    <tr>\n",
       "      <th>NE</th>\n",
       "      <td>6</td>\n",
       "    </tr>\n",
       "    <tr>\n",
       "      <th>MT</th>\n",
       "      <td>2</td>\n",
       "    </tr>\n",
       "    <tr>\n",
       "      <th>NC</th>\n",
       "      <td>19</td>\n",
       "    </tr>\n",
       "    <tr>\n",
       "      <th>VT</th>\n",
       "      <td>5</td>\n",
       "    </tr>\n",
       "    <tr>\n",
       "      <th>MD</th>\n",
       "      <td>27</td>\n",
       "    </tr>\n",
       "    <tr>\n",
       "      <th>DE</th>\n",
       "      <td>3</td>\n",
       "    </tr>\n",
       "    <tr>\n",
       "      <th>MO</th>\n",
       "      <td>17</td>\n",
       "    </tr>\n",
       "    <tr>\n",
       "      <th>IL</th>\n",
       "      <td>50</td>\n",
       "    </tr>\n",
       "    <tr>\n",
       "      <th>ME</th>\n",
       "      <td>2</td>\n",
       "    </tr>\n",
       "    <tr>\n",
       "      <th>WA</th>\n",
       "      <td>24</td>\n",
       "    </tr>\n",
       "    <tr>\n",
       "      <th>ND</th>\n",
       "      <td>2</td>\n",
       "    </tr>\n",
       "    <tr>\n",
       "      <th>MS</th>\n",
       "      <td>3</td>\n",
       "    </tr>\n",
       "    <tr>\n",
       "      <th>AL</th>\n",
       "      <td>3</td>\n",
       "    </tr>\n",
       "    <tr>\n",
       "      <th>IN</th>\n",
       "      <td>9</td>\n",
       "    </tr>\n",
       "    <tr>\n",
       "      <th>AE</th>\n",
       "      <td>1</td>\n",
       "    </tr>\n",
       "    <tr>\n",
       "      <th>OH</th>\n",
       "      <td>32</td>\n",
       "    </tr>\n",
       "    <tr>\n",
       "      <th>TN</th>\n",
       "      <td>12</td>\n",
       "    </tr>\n",
       "    <tr>\n",
       "      <th>IA</th>\n",
       "      <td>14</td>\n",
       "    </tr>\n",
       "    <tr>\n",
       "      <th>NM</th>\n",
       "      <td>2</td>\n",
       "    </tr>\n",
       "    <tr>\n",
       "      <th>PA</th>\n",
       "      <td>34</td>\n",
       "    </tr>\n",
       "    <tr>\n",
       "      <th>SD</th>\n",
       "      <td>1</td>\n",
       "    </tr>\n",
       "    <tr>\n",
       "      <th>NY</th>\n",
       "      <td>60</td>\n",
       "    </tr>\n",
       "    <tr>\n",
       "      <th>TX</th>\n",
       "      <td>51</td>\n",
       "    </tr>\n",
       "    <tr>\n",
       "      <th>WV</th>\n",
       "      <td>3</td>\n",
       "    </tr>\n",
       "    <tr>\n",
       "      <th>GA</th>\n",
       "      <td>19</td>\n",
       "    </tr>\n",
       "    <tr>\n",
       "      <th>MA</th>\n",
       "      <td>35</td>\n",
       "    </tr>\n",
       "    <tr>\n",
       "      <th>KS</th>\n",
       "      <td>4</td>\n",
       "    </tr>\n",
       "    <tr>\n",
       "      <th>CO</th>\n",
       "      <td>20</td>\n",
       "    </tr>\n",
       "    <tr>\n",
       "      <th>FL</th>\n",
       "      <td>24</td>\n",
       "    </tr>\n",
       "    <tr>\n",
       "      <th>AK</th>\n",
       "      <td>5</td>\n",
       "    </tr>\n",
       "    <tr>\n",
       "      <th>AR</th>\n",
       "      <td>1</td>\n",
       "    </tr>\n",
       "    <tr>\n",
       "      <th>OK</th>\n",
       "      <td>9</td>\n",
       "    </tr>\n",
       "    <tr>\n",
       "      <th>AP</th>\n",
       "      <td>1</td>\n",
       "    </tr>\n",
       "    <tr>\n",
       "      <th>UT</th>\n",
       "      <td>9</td>\n",
       "    </tr>\n",
       "    <tr>\n",
       "      <th>HI</th>\n",
       "      <td>2</td>\n",
       "    </tr>\n",
       "  </tbody>\n",
       "</table>\n",
       "</div>"
      ],
      "text/plain": [
       "       count\n",
       "state       \n",
       "AZ        14\n",
       "SC        11\n",
       "LA         6\n",
       "MN        78\n",
       "NJ        18\n",
       "DC        14\n",
       "OR        20\n",
       "NaN       35\n",
       "VA        27\n",
       "RI         3\n",
       "KY        11\n",
       "WY         1\n",
       "NH         6\n",
       "MI        23\n",
       "NV         3\n",
       "WI        22\n",
       "ID         7\n",
       "CA       116\n",
       "CT        17\n",
       "NE         6\n",
       "MT         2\n",
       "NC        19\n",
       "VT         5\n",
       "MD        27\n",
       "DE         3\n",
       "MO        17\n",
       "IL        50\n",
       "ME         2\n",
       "WA        24\n",
       "ND         2\n",
       "MS         3\n",
       "AL         3\n",
       "IN         9\n",
       "AE         1\n",
       "OH        32\n",
       "TN        12\n",
       "IA        14\n",
       "NM         2\n",
       "PA        34\n",
       "SD         1\n",
       "NY        60\n",
       "TX        51\n",
       "WV         3\n",
       "GA        19\n",
       "MA        35\n",
       "KS         4\n",
       "CO        20\n",
       "FL        24\n",
       "AK         5\n",
       "AR         1\n",
       "OK         9\n",
       "AP         1\n",
       "UT         9\n",
       "HI         2"
      ]
     },
     "execution_count": 76,
     "metadata": {},
     "output_type": "execute_result"
    }
   ],
   "source": [
    "# 以Pandas DataFrame繪圖，設定所引為 state 州別欄位\n",
    "# 轉成 pandas DataFrame\n",
    "import pandas as pd\n",
    "GroupByState_pandas_df =GroupByState_df.toPandas().set_index('state')\n",
    "GroupByState_pandas_df"
   ]
  },
  {
   "cell_type": "code",
   "execution_count": 77,
   "metadata": {
    "collapsed": false
   },
   "outputs": [
    {
     "data": {
      "text/html": [
       "<div>\n",
       "<table border=\"1\" class=\"dataframe\">\n",
       "  <thead>\n",
       "    <tr style=\"text-align: right;\">\n",
       "      <th>state</th>\n",
       "      <th>AZ</th>\n",
       "      <th>SC</th>\n",
       "      <th>LA</th>\n",
       "      <th>MN</th>\n",
       "      <th>NJ</th>\n",
       "      <th>DC</th>\n",
       "      <th>OR</th>\n",
       "      <th>None</th>\n",
       "      <th>VA</th>\n",
       "      <th>RI</th>\n",
       "      <th>...</th>\n",
       "      <th>MA</th>\n",
       "      <th>KS</th>\n",
       "      <th>CO</th>\n",
       "      <th>FL</th>\n",
       "      <th>AK</th>\n",
       "      <th>AR</th>\n",
       "      <th>OK</th>\n",
       "      <th>AP</th>\n",
       "      <th>UT</th>\n",
       "      <th>HI</th>\n",
       "    </tr>\n",
       "  </thead>\n",
       "  <tbody>\n",
       "    <tr>\n",
       "      <th>count</th>\n",
       "      <td>14</td>\n",
       "      <td>11</td>\n",
       "      <td>6</td>\n",
       "      <td>78</td>\n",
       "      <td>18</td>\n",
       "      <td>14</td>\n",
       "      <td>20</td>\n",
       "      <td>35</td>\n",
       "      <td>27</td>\n",
       "      <td>3</td>\n",
       "      <td>...</td>\n",
       "      <td>35</td>\n",
       "      <td>4</td>\n",
       "      <td>20</td>\n",
       "      <td>24</td>\n",
       "      <td>5</td>\n",
       "      <td>1</td>\n",
       "      <td>9</td>\n",
       "      <td>1</td>\n",
       "      <td>9</td>\n",
       "      <td>2</td>\n",
       "    </tr>\n",
       "  </tbody>\n",
       "</table>\n",
       "<p>1 rows × 54 columns</p>\n",
       "</div>"
      ],
      "text/plain": [
       "state  AZ  SC  LA  MN  NJ  DC  OR  NaN  VA  RI ...  MA  KS  CO  FL  AK  AR  \\\n",
       "count  14  11   6  78  18  14  20   35  27   3 ...  35   4  20  24   5   1   \n",
       "\n",
       "state  OK  AP  UT  HI  \n",
       "count   9   1   9   2  \n",
       "\n",
       "[1 rows x 54 columns]"
      ]
     },
     "execution_count": 77,
     "metadata": {},
     "output_type": "execute_result"
    }
   ],
   "source": [
    "# 秀出統計表\n",
    "GroupByState_pandas_df.T"
   ]
  },
  {
   "cell_type": "code",
   "execution_count": 78,
   "metadata": {
    "collapsed": false
   },
   "outputs": [
    {
     "data": {
      "image/png": "[encoded data removed]",
      "text/plain": [
       "<matplotlib.figure.Figure at 0x7fa6fd9b4908>"
      ]
     },
     "metadata": {},
     "output_type": "display_data"
    }
   ],
   "source": [
    "# 劃出長條圖\n",
    "import matplotlib.pyplot as plt\n",
    "get_ipython().magic('matplotlib inline')\n",
    "ax = GroupByState_pandas_df ['count'].plot(kind='bar', title =\"State \",figsize=(12,6),legend=True, fontsize=12)\n",
    "plt.show()\n"
   ]
  },
  {
   "cell_type": "code",
   "execution_count": 79,
   "metadata": {
    "collapsed": false
   },
   "outputs": [
    {
     "name": "stdout",
     "output_type": "stream",
     "text": [
      "+-------------+------+\n",
      "|   occupation|counts|\n",
      "+-------------+------+\n",
      "|    librarian|    51|\n",
      "|      retired|    14|\n",
      "|       lawyer|    12|\n",
      "|         none|     9|\n",
      "|       writer|    45|\n",
      "|   programmer|    66|\n",
      "|    marketing|    26|\n",
      "|        other|   105|\n",
      "|    executive|    32|\n",
      "|    scientist|    31|\n",
      "|      student|   196|\n",
      "|     salesman|    12|\n",
      "|       artist|    28|\n",
      "|   technician|    27|\n",
      "|administrator|    79|\n",
      "|     engineer|    67|\n",
      "|   healthcare|    16|\n",
      "|     educator|    95|\n",
      "|entertainment|    18|\n",
      "|    homemaker|     7|\n",
      "|       doctor|     7|\n",
      "+-------------+------+\n",
      "\n"
     ]
    }
   ],
   "source": [
    "# 建立 Occupation_df Dataframe\n",
    "Occupation_df=sqlContext.sql(\"\"\" \n",
    "SELECT u.occupation ,count(*) counts\n",
    "FROM user_table u\n",
    "GROUP BY occupation\n",
    "\"\"\")\n",
    "Occupation_df.show(30)"
   ]
  },
  {
   "cell_type": "code",
   "execution_count": 80,
   "metadata": {
    "collapsed": false
   },
   "outputs": [
    {
     "data": {
      "text/html": [
       "<div>\n",
       "<table border=\"1\" class=\"dataframe\">\n",
       "  <thead>\n",
       "    <tr style=\"text-align: right;\">\n",
       "      <th></th>\n",
       "      <th>counts</th>\n",
       "    </tr>\n",
       "    <tr>\n",
       "      <th>occupation</th>\n",
       "      <th></th>\n",
       "    </tr>\n",
       "  </thead>\n",
       "  <tbody>\n",
       "    <tr>\n",
       "      <th>librarian</th>\n",
       "      <td>51</td>\n",
       "    </tr>\n",
       "    <tr>\n",
       "      <th>retired</th>\n",
       "      <td>14</td>\n",
       "    </tr>\n",
       "    <tr>\n",
       "      <th>lawyer</th>\n",
       "      <td>12</td>\n",
       "    </tr>\n",
       "    <tr>\n",
       "      <th>none</th>\n",
       "      <td>9</td>\n",
       "    </tr>\n",
       "    <tr>\n",
       "      <th>writer</th>\n",
       "      <td>45</td>\n",
       "    </tr>\n",
       "    <tr>\n",
       "      <th>programmer</th>\n",
       "      <td>66</td>\n",
       "    </tr>\n",
       "    <tr>\n",
       "      <th>marketing</th>\n",
       "      <td>26</td>\n",
       "    </tr>\n",
       "    <tr>\n",
       "      <th>other</th>\n",
       "      <td>105</td>\n",
       "    </tr>\n",
       "    <tr>\n",
       "      <th>executive</th>\n",
       "      <td>32</td>\n",
       "    </tr>\n",
       "    <tr>\n",
       "      <th>scientist</th>\n",
       "      <td>31</td>\n",
       "    </tr>\n",
       "    <tr>\n",
       "      <th>student</th>\n",
       "      <td>196</td>\n",
       "    </tr>\n",
       "    <tr>\n",
       "      <th>salesman</th>\n",
       "      <td>12</td>\n",
       "    </tr>\n",
       "    <tr>\n",
       "      <th>artist</th>\n",
       "      <td>28</td>\n",
       "    </tr>\n",
       "    <tr>\n",
       "      <th>technician</th>\n",
       "      <td>27</td>\n",
       "    </tr>\n",
       "    <tr>\n",
       "      <th>administrator</th>\n",
       "      <td>79</td>\n",
       "    </tr>\n",
       "    <tr>\n",
       "      <th>engineer</th>\n",
       "      <td>67</td>\n",
       "    </tr>\n",
       "    <tr>\n",
       "      <th>healthcare</th>\n",
       "      <td>16</td>\n",
       "    </tr>\n",
       "    <tr>\n",
       "      <th>educator</th>\n",
       "      <td>95</td>\n",
       "    </tr>\n",
       "    <tr>\n",
       "      <th>entertainment</th>\n",
       "      <td>18</td>\n",
       "    </tr>\n",
       "    <tr>\n",
       "      <th>homemaker</th>\n",
       "      <td>7</td>\n",
       "    </tr>\n",
       "    <tr>\n",
       "      <th>doctor</th>\n",
       "      <td>7</td>\n",
       "    </tr>\n",
       "  </tbody>\n",
       "</table>\n",
       "</div>"
      ],
      "text/plain": [
       "               counts\n",
       "occupation           \n",
       "librarian          51\n",
       "retired            14\n",
       "lawyer             12\n",
       "none                9\n",
       "writer             45\n",
       "programmer         66\n",
       "marketing          26\n",
       "other             105\n",
       "executive          32\n",
       "scientist          31\n",
       "student           196\n",
       "salesman           12\n",
       "artist             28\n",
       "technician         27\n",
       "administrator      79\n",
       "engineer           67\n",
       "healthcare         16\n",
       "educator           95\n",
       "entertainment      18\n",
       "homemaker           7\n",
       "doctor              7"
      ]
     },
     "execution_count": 80,
     "metadata": {},
     "output_type": "execute_result"
    }
   ],
   "source": [
    "# 查看 Occupation_pandas_df\n",
    "Occupation_pandas_df =Occupation_df.toPandas().set_index('occupation')\n",
    "Occupation_pandas_df"
   ]
  },
  {
   "cell_type": "code",
   "execution_count": 81,
   "metadata": {
    "collapsed": false
   },
   "outputs": [
    {
     "data": {
      "image/png": "[encoded data removed]",
      "text/plain": [
       "<matplotlib.figure.Figure at 0x7fa6fb07ae48>"
      ]
     },
     "metadata": {},
     "output_type": "display_data"
    }
   ],
   "source": [
    "# 依照不同職業統計使用者人數，圓餅圖表示\n",
    "ax =Occupation_pandas_df['counts'].plot(kind='pie',\n",
    "           title =\"occupation\",figsize=(8,8),startangle=90,autopct='%1.1f%%')\n",
    "ax.legend(bbox_to_anchor=(1.05, 1), loc=2, borderaxespad=0.)\n",
    "plt.show()"
   ]
  },
  {
   "cell_type": "code",
   "execution_count": null,
   "metadata": {
    "collapsed": true
   },
   "outputs": [],
   "source": []
  },
  {
   "cell_type": "code",
   "execution_count": null,
   "metadata": {
    "collapsed": true
   },
   "outputs": [],
   "source": []
  }
 ],
 "metadata": {
  "anaconda-cloud": {},
  "kernelspec": {
   "display_name": "Python [default]",
   "language": "python",
   "name": "python3"
  },
  "language_info": {
   "codemirror_mode": {
    "name": "ipython",
    "version": 3
   },
   "file_extension": ".py",
   "mimetype": "text/x-python",
   "name": "python",
   "nbconvert_exporter": "python",
   "pygments_lexer": "ipython3",
   "version": "3.5.2"
  }
 },
 "nbformat": 4,
 "nbformat_minor": 1
}
