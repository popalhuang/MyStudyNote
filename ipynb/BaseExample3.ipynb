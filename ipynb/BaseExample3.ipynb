{
 "cells": [
  {
   "cell_type": "markdown",
   "metadata": {},
   "source": [
    "## 流程控制與迴圈"
   ]
  },
  {
   "cell_type": "markdown",
   "metadata": {},
   "source": [
    "#### if~elif~else"
   ]
  },
  {
   "cell_type": "code",
   "execution_count": 13,
   "metadata": {
    "collapsed": false,
    "scrolled": false
   },
   "outputs": [
    {
     "name": "stdout",
     "output_type": "stream",
     "text": [
      "Please enter an integer: 111\n",
      "More\n"
     ]
    }
   ],
   "source": [
    "x = int(input(\"Please enter an integer: \"))\n",
    "if x < 0:\n",
    "    x = 0\n",
    "    print('Negative changed to zero')\n",
    "elif x==0:\n",
    "    print('Zero')\n",
    "elif x==1:\n",
    "    print('Single')\n",
    "else:\n",
    "    print('More')"
   ]
  },
  {
   "cell_type": "markdown",
   "metadata": {},
   "source": [
    "#### for Example1"
   ]
  },
  {
   "cell_type": "code",
   "execution_count": 20,
   "metadata": {
    "collapsed": false
   },
   "outputs": [
    {
     "name": "stdout",
     "output_type": "stream",
     "text": [
      "cat 3\n",
      "window 6\n",
      "defenestrate 12\n",
      "['defenestrate', 'cat', 'window', 'defenestrate']\n"
     ]
    }
   ],
   "source": [
    "words = ['cat', 'window', 'defenestrate']\n",
    "for w in words:\n",
    "    print(w, len(w))\n",
    "\n",
    "\n",
    "for w in words[:]:\n",
    "     if len(w) > 6:\n",
    "            words.insert(0, w)\n",
    "print(words)"
   ]
  },
  {
   "cell_type": "code",
   "execution_count": 32,
   "metadata": {
    "collapsed": false
   },
   "outputs": [
    {
     "name": "stdout",
     "output_type": "stream",
     "text": [
      "[0, 1, 2, 3, 4]\n",
      "[5, 6, 7, 8, 9]\n",
      "[0, 3, 6, 9]\n",
      "0 Mary\n",
      "1 had\n",
      "2 a\n",
      "3 little\n",
      "4 lamb\n"
     ]
    }
   ],
   "source": [
    "list1=[]\n",
    "list1.clear()\n",
    "for i in range(5):    \n",
    "    list1.append(i)\n",
    "print(list1)\n",
    "\n",
    "list1.clear()\n",
    "for i in range(5,10):    \n",
    "    list1.append(i)\n",
    "print(list1)\n",
    "\n",
    "list1.clear()\n",
    "for i in range(0,10,3):    \n",
    "    list1.append(i)\n",
    "print(list1)\n",
    "\n",
    "a = ['Mary', 'had', 'a', 'little', 'lamb']\n",
    "for i in range(len(a)):\n",
    "    print(i, a[i])\n"
   ]
  },
  {
   "cell_type": "code",
   "execution_count": 36,
   "metadata": {
    "collapsed": false
   },
   "outputs": [
    {
     "name": "stdout",
     "output_type": "stream",
     "text": [
      "Found an even number 2\n",
      "Found a number 3\n",
      "Found an even number 4\n",
      "Found a number 5\n",
      "Found an even number 6\n",
      "Found a number 7\n",
      "Found an even number 8\n",
      "Found a number 9\n"
     ]
    }
   ],
   "source": [
    "for num in range(2, 10):\n",
    "    if num % 2 == 0:\n",
    "        print(\"Found an even number\", num)\n",
    "        continue\n",
    "    print(\"Found a number\", num)"
   ]
  },
  {
   "cell_type": "code",
   "execution_count": 5,
   "metadata": {
    "collapsed": false
   },
   "outputs": [
    {
     "name": "stdout",
     "output_type": "stream",
     "text": [
      "1*1=1, \n",
      "1*2=2, \n",
      "1*3=3, \n",
      "1*4=4, \n",
      "1*5=5, \n",
      "1*6=6, \n",
      "1*7=7, \n",
      "1*8=8, \n",
      "1*9=9, \n",
      "2*1=2, \n",
      "2*2=4, \n",
      "2*3=6, \n",
      "2*4=8, \n",
      "2*5=10, \n",
      "2*6=12, \n",
      "2*7=14, \n",
      "2*8=16, \n",
      "2*9=18, \n",
      "3*1=3, \n",
      "3*2=6, \n",
      "3*3=9, \n",
      "3*4=12, \n",
      "3*5=15, \n",
      "3*6=18, \n",
      "3*7=21, \n",
      "3*8=24, \n",
      "3*9=27, \n",
      "4*1=4, \n",
      "4*2=8, \n",
      "4*3=12, \n",
      "4*4=16, \n",
      "4*5=20, \n",
      "4*6=24, \n",
      "4*7=28, \n",
      "4*8=32, \n",
      "4*9=36, \n",
      "5*1=5, \n",
      "5*2=10, \n",
      "5*3=15, \n",
      "5*4=20, \n",
      "5*5=25, \n",
      "5*6=30, \n",
      "5*7=35, \n",
      "5*8=40, \n",
      "5*9=45, \n",
      "6*1=6, \n",
      "6*2=12, \n",
      "6*3=18, \n",
      "6*4=24, \n",
      "6*5=30, \n",
      "6*6=36, \n",
      "6*7=42, \n",
      "6*8=48, \n",
      "6*9=54, \n",
      "7*1=7, \n",
      "7*2=14, \n",
      "7*3=21, \n",
      "7*4=28, \n",
      "7*5=35, \n",
      "7*6=42, \n",
      "7*7=49, \n",
      "7*8=56, \n",
      "7*9=63, \n",
      "8*1=8, \n",
      "8*2=16, \n",
      "8*3=24, \n",
      "8*4=32, \n",
      "8*5=40, \n",
      "8*6=48, \n",
      "8*7=56, \n",
      "8*8=64, \n",
      "8*9=72, \n",
      "9*1=9, \n",
      "9*2=18, \n",
      "9*3=27, \n",
      "9*4=36, \n",
      "9*5=45, \n",
      "9*6=54, \n",
      "9*7=63, \n",
      "9*8=72, \n",
      "9*9=81, \n"
     ]
    }
   ],
   "source": [
    "##九九乘法表\n",
    "\n",
    "for i in range(1,10):\n",
    "    for j in range(1,10):\n",
    "        print(\"{test1}*{test2}={result},\".format(test1=i,test2=j,result=i*j),\"\")"
   ]
  },
  {
   "cell_type": "code",
   "execution_count": 1,
   "metadata": {
    "collapsed": false
   },
   "outputs": [
    {
     "name": "stdout",
     "output_type": "stream",
     "text": [
      "1 + 2 + 3 + ... + 98 + 99 + 100 = 5050\n"
     ]
    }
   ],
   "source": [
    "sum = 0\n",
    "i = 1\n",
    "while i <= 100:\n",
    "    sum += i\n",
    "    i += 1\n",
    " \n",
    "print(\"1 + 2 + 3 + ... + 98 + 99 + 100 =\", sum)"
   ]
  },
  {
   "cell_type": "code",
   "execution_count": 3,
   "metadata": {
    "collapsed": false
   },
   "outputs": [
    {
     "ename": "ModuleNotFoundError",
     "evalue": "No module named 'cx_Oracle'",
     "output_type": "error",
     "traceback": [
      "\u001b[0;31m---------------------------------------------------------------------------\u001b[0m",
      "\u001b[0;31mModuleNotFoundError\u001b[0m                       Traceback (most recent call last)",
      "\u001b[0;32m<ipython-input-3-d1ecebcba3d2>\u001b[0m in \u001b[0;36m<module>\u001b[0;34m()\u001b[0m\n\u001b[0;32m----> 1\u001b[0;31m \u001b[1;32mimport\u001b[0m \u001b[0mcx_Oracle\u001b[0m\u001b[1;33m\u001b[0m\u001b[0m\n\u001b[0m",
      "\u001b[0;31mModuleNotFoundError\u001b[0m: No module named 'cx_Oracle'"
     ]
    }
   ],
   "source": [
    "import cx_Oracle"
   ]
  }
 ],
 "metadata": {
  "anaconda-cloud": {},
  "kernelspec": {
   "display_name": "Python [default]",
   "language": "python",
   "name": "python3"
  },
  "language_info": {
   "codemirror_mode": {
    "name": "ipython",
    "version": 3
   },
   "file_extension": ".py",
   "mimetype": "text/x-python",
   "name": "python",
   "nbconvert_exporter": "python",
   "pygments_lexer": "ipython3",
   "version": "3.5.2"
  }
 },
 "nbformat": 4,
 "nbformat_minor": 2
}
