{
 "cells": [
  {
   "cell_type": "markdown",
   "metadata": {},
   "source": [
    "### List用法"
   ]
  },
  {
   "cell_type": "code",
   "execution_count": 1,
   "metadata": {},
   "outputs": [
    {
     "data": {
      "text/plain": [
       "[1, 2, 4, 8, 16, 32, 64, 128, 256, 512]"
      ]
     },
     "execution_count": 1,
     "metadata": {},
     "output_type": "execute_result"
    }
   ],
   "source": [
    "my_list = []                          # empty list\n",
    "my_list = [1, 2, 3]                   # list of integers\n",
    "my_list = [1, \"Hello\", 3.4]           # list with mixed datatypes\n",
    "my_list = [\"mouse\", [8, 4, 6], ['a']] # nested list\n",
    "pow2 = [2 ** x for x in range(10)]\n",
    "pow2"
   ]
  },
  {
   "cell_type": "code",
   "execution_count": 2,
   "metadata": {},
   "outputs": [
    {
     "name": "stdout",
     "output_type": "stream",
     "text": [
      "h\n",
      "e\n",
      "!\n",
      "d\n",
      "w\n",
      "h\n",
      "a\n",
      "5\n"
     ]
    }
   ],
   "source": [
    "my_list_str1=[\"h\",\"e\",\"l\",\"l\",\"o\",\"!\",\"w\",\"o\",\"r\",\"l\",\"d\"]\n",
    "print(my_list_str1[0])\n",
    "print(my_list_str1[1])\n",
    "print(my_list_str1[5])\n",
    "print(my_list_str1[-1])\n",
    "print(my_list_str1[-5])\n",
    "print(my_list_str1[-11])\n",
    "\n",
    "my_list_str2 = [\"Happy\", [2,0,1,5]]\n",
    "print(my_list_str2[0][1])\n",
    "print(my_list_str2[1][-1])"
   ]
  },
  {
   "cell_type": "code",
   "execution_count": 3,
   "metadata": {},
   "outputs": [
    {
     "name": "stdout",
     "output_type": "stream",
     "text": [
      "['o', 'g', 'r']\n",
      "['o', 'g', 'r', 'a']\n",
      "['p', 'r', 'o', 'g']\n",
      "['a', 'm', 'i', 'z']\n",
      "['p', 'r', 'o', 'g', 'r', 'a', 'm', 'i', 'z']\n"
     ]
    }
   ],
   "source": [
    "my_list = ['p','r','o','g','r','a','m','i','z']\n",
    "print(my_list[2:5])\n",
    "print(my_list[2:-3])\n",
    "print(my_list[:-5])\n",
    "print(my_list[5:])\n",
    "print(my_list[:])"
   ]
  },
  {
   "cell_type": "code",
   "execution_count": 4,
   "metadata": {},
   "outputs": [
    {
     "name": "stdout",
     "output_type": "stream",
     "text": [
      "[2, 4, 6, 8]\n",
      "[1, 4, 6, 8]\n",
      "[1, 3, 5, 7]\n",
      "[1, 3, 5, 7, 9]\n",
      "[1, 3, 5, 7, 9, 11, 13, 15]\n",
      "[1, 3, 5, 7, 9, 11, 13, 999, 15]\n",
      "[1, 3, 5, 7, 9, 11, 13, 999, 15, 17, 19, 21]\n",
      "['re', 're', 're']\n"
     ]
    }
   ],
   "source": [
    "odd = [2, 4, 6, 8]\n",
    "print(odd)\n",
    "\n",
    "odd[0]=1\n",
    "print(odd)\n",
    "\n",
    "odd[1:4]=[3,5,7]\n",
    "print(odd)\n",
    "\n",
    "odd.append(9)\n",
    "print(odd)\n",
    "\n",
    "odd.extend([11, 13, 15])\n",
    "print(odd)\n",
    "\n",
    "odd.insert(7,999)\n",
    "print(odd)\n",
    "\n",
    "print(odd + [17, 19, 21])\n",
    "print([\"re\"] * 3)"
   ]
  },
  {
   "cell_type": "code",
   "execution_count": 5,
   "metadata": {},
   "outputs": [
    {
     "name": "stdout",
     "output_type": "stream",
     "text": [
      "['p', 'r', 'b', 'l', 'e', 'm']\n",
      "['p', 'r', 'b', 'm']\n"
     ]
    }
   ],
   "source": [
    "my_list = ['p','r','o','b','l','e','m']\n",
    "del my_list[2]\n",
    "print(my_list)\n",
    "\n",
    "del my_list[3:5]\n",
    "print(my_list)\n",
    "\n",
    "del my_list\n",
    "#print(my_list)"
   ]
  },
  {
   "cell_type": "code",
   "execution_count": 6,
   "metadata": {},
   "outputs": [
    {
     "name": "stdout",
     "output_type": "stream",
     "text": [
      "['r', 'o', 'b', 'l', 'e', 'm']\n",
      "o\n",
      "['r', 'b', 'l', 'e', 'm']\n",
      "m\n",
      "['r', 'b', 'l', 'e']\n",
      "[]\n",
      "['p', 'r', 'b', 'l', 'e', 'm']\n",
      "['p', 'r', 'm']\n"
     ]
    }
   ],
   "source": [
    "my_list = ['p','r','o','b','l','e','m']\n",
    "my_list.remove('p')\n",
    "print(my_list)\n",
    "\n",
    "print(my_list.pop(1))\n",
    "print(my_list)\n",
    "\n",
    "print(my_list.pop())\n",
    "print(my_list)\n",
    "\n",
    "my_list.clear()\n",
    "print(my_list)\n",
    "\n",
    "my_list = ['p','r','o','b','l','e','m']\n",
    "my_list[2:3] = []\n",
    "print(my_list)\n",
    "my_list[2:5] = []\n",
    "print(my_list)"
   ]
  },
  {
   "cell_type": "code",
   "execution_count": 7,
   "metadata": {},
   "outputs": [
    {
     "name": "stdout",
     "output_type": "stream",
     "text": [
      "1\n",
      "2\n",
      "[0, 1, 3, 4, 6, 8, 8]\n",
      "[8, 8, 6, 4, 3, 1, 0]\n"
     ]
    }
   ],
   "source": [
    "my_list = [3, 8, 1, 6, 0, 8, 4]\n",
    "print(my_list.index(8))\n",
    "print(my_list.count(8))\n",
    "\n",
    "my_list.sort()\n",
    "print(my_list)\n",
    "\n",
    "my_list.reverse()\n",
    "print(my_list)"
   ]
  },
  {
   "cell_type": "code",
   "execution_count": 8,
   "metadata": {},
   "outputs": [
    {
     "name": "stdout",
     "output_type": "stream",
     "text": [
      "[1, 2, 4, 8, 16, 32, 64, 128, 256, 512]\n",
      "[1, 2, 4, 8, 16, 32, 64, 128, 256, 512]\n",
      "[64, 128, 256, 512]\n",
      "[1, 3, 5, 7, 9, 11, 13, 15, 17, 19]\n"
     ]
    },
    {
     "data": {
      "text/plain": [
       "['Python Language', 'Python Programming', 'C Language', 'C Programming']"
      ]
     },
     "execution_count": 8,
     "metadata": {},
     "output_type": "execute_result"
    }
   ],
   "source": [
    "pow2 = [2 ** x for x in range(10)]\n",
    "print(pow2)\n",
    "\n",
    "pow2 = []\n",
    "for x in range(10):\n",
    "   pow2.append(2 ** x)\n",
    "print(pow2)\n",
    "\n",
    "\n",
    "pow2 = [2 ** x for x in range(10) if x > 5]\n",
    "print(pow2)\n",
    "\n",
    "odd = [x for x in range(20) if x % 2 == 1]\n",
    "print(odd)\n",
    "\n",
    "[x+y for x in ['Python ','C '] for y in ['Language','Programming']]"
   ]
  },
  {
   "cell_type": "code",
   "execution_count": 9,
   "metadata": {},
   "outputs": [
    {
     "name": "stdout",
     "output_type": "stream",
     "text": [
      "True\n",
      "False\n",
      "True\n"
     ]
    }
   ],
   "source": [
    "my_list = ['p','r','o','b','l','e','m']\n",
    "print('p' in my_list)\n",
    "print('a' in my_list)\n",
    "print('c' not in my_list)"
   ]
  },
  {
   "cell_type": "code",
   "execution_count": 10,
   "metadata": {},
   "outputs": [
    {
     "name": "stdout",
     "output_type": "stream",
     "text": [
      "I like apple\n",
      "I like banana\n",
      "I like mango\n"
     ]
    }
   ],
   "source": [
    "for fruit in ['apple','banana','mango']:\n",
    "    print(\"I like\",fruit)"
   ]
  },
  {
   "cell_type": "code",
   "execution_count": null,
   "metadata": {
    "collapsed": true
   },
   "outputs": [],
   "source": []
  }
 ],
 "metadata": {
  "kernelspec": {
   "display_name": "Python 3",
   "language": "python",
   "name": "python3"
  },
  "language_info": {
   "codemirror_mode": {
    "name": "ipython",
    "version": 3
   },
   "file_extension": ".py",
   "mimetype": "text/x-python",
   "name": "python",
   "nbconvert_exporter": "python",
   "pygments_lexer": "ipython3",
   "version": "3.6.3"
  }
 },
 "nbformat": 4,
 "nbformat_minor": 2
}
